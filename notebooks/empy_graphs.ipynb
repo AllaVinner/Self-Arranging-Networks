{
 "cells": [
  {
   "cell_type": "code",
   "execution_count": null,
   "metadata": {},
   "outputs": [],
   "source": [
    "import os\n",
    "working_dir_path = %pwd  #look at the current work dir\n",
    "if os.path.basename(working_dir_path) == 'notebooks':\n",
    "    %cd ..\n",
    "%pwd "
   ]
  },
  {
   "cell_type": "code",
   "execution_count": null,
   "metadata": {},
   "outputs": [],
   "source": [
    "import torch\n",
    "import networkx as nx\n",
    "import numpy as np\n",
    "import plotly.graph_objects as go\n",
    "import plotly\n",
    "import src.network_arranger as na\n",
    "import src.utils as utils\n",
    "import imageio\n",
    "import json\n",
    "from PIL import Image"
   ]
  }
 ],
 "metadata": {
  "kernelspec": {
   "display_name": "jenv",
   "language": "python",
   "name": "python3"
  },
  "language_info": {
   "name": "python",
   "version": "3.9.15 (main, Nov 24 2022, 14:39:17) [MSC v.1916 64 bit (AMD64)]"
  },
  "orig_nbformat": 4,
  "vscode": {
   "interpreter": {
    "hash": "a6df720517243887f81f829574e18eed6582ce87175ffd531d5fa99bc43729cc"
   }
  }
 },
 "nbformat": 4,
 "nbformat_minor": 2
}
