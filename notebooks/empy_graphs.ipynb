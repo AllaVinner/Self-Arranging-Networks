{
 "cells": [
  {
   "cell_type": "code",
   "execution_count": 1,
   "metadata": {},
   "outputs": [
    {
     "name": "stdout",
     "output_type": "stream",
     "text": [
      "c:\\Users\\joelw\\OneDrive\\Documents\\Projects\\Programming\\Self-Arranging-Networks\n"
     ]
    },
    {
     "data": {
      "text/plain": [
       "'c:\\\\Users\\\\joelw\\\\OneDrive\\\\Documents\\\\Projects\\\\Programming\\\\Self-Arranging-Networks'"
      ]
     },
     "execution_count": 1,
     "metadata": {},
     "output_type": "execute_result"
    }
   ],
   "source": [
    "import os\n",
    "working_dir_path = %pwd  #look at the current work dir\n",
    "if os.path.basename(working_dir_path) == 'notebooks':\n",
    "    %cd ..\n",
    "%pwd "
   ]
  },
  {
   "cell_type": "code",
   "execution_count": 2,
   "metadata": {},
   "outputs": [],
   "source": [
    "import torch\n",
    "import networkx as nx\n",
    "import numpy as np\n",
    "import plotly.graph_objects as go\n",
    "import plotly\n",
    "import src.network_arranger as na\n",
    "import src.utils as utils\n",
    "import imageio\n",
    "import json\n",
    "from PIL import Image"
   ]
  },
  {
   "cell_type": "code",
   "execution_count": 3,
   "metadata": {},
   "outputs": [],
   "source": [
    "# Create figures\n",
    "ns = [1,2,3,4,5]\n",
    "figs = []\n",
    "T = 300\n",
    "\n",
    "for n in ns:\n",
    "    G =  nx.empty_graph(n)\n",
    "    # Calculate positions of nodes\n",
    "    x,y, stats = na.arrange_graph(G, T=T)\n",
    "    node_list, edge_list = utils.graph_to_plotly(stats['positions'], stats['connection_matrix'])\n",
    "    fig = utils.animate_network(node_list, edge_list, minimum_layout=True)\n",
    "    figs.append(fig)"
   ]
  },
  {
   "cell_type": "code",
   "execution_count": 6,
   "metadata": {},
   "outputs": [
    {
     "name": "stdout",
     "output_type": "stream",
     "text": [
      "0 out of 300\n",
      "10 out of 300\n",
      "20 out of 300\n",
      "30 out of 300\n",
      "40 out of 300\n",
      "50 out of 300\n",
      "60 out of 300\n",
      "70 out of 300\n",
      "80 out of 300\n",
      "90 out of 300\n",
      "100 out of 300\n",
      "110 out of 300\n"
     ]
    }
   ],
   "source": [
    "temp_file = \"temp.png\"\n",
    "temp_acc_file = \"temp_accumulate.png\"\n",
    "file_name = 'empty_graphs_1_5.gif'\n",
    "with imageio.get_writer(file_name, mode='I') as writer:\n",
    "    for ti in range(0, 120, 1):\n",
    "        for fi, fig in enumerate(figs):\n",
    "            frame = fig.frames[ti]\n",
    "            frame['layout'] = fig['layout']\n",
    "            new_fig = plotly.io.from_json(json.dumps(frame.to_plotly_json()))\n",
    "            new_fig.write_image(temp_file)\n",
    "            if fi == 0:\n",
    "                im = Image.open(temp_file)\n",
    "                im.save(temp_acc_file)\n",
    "            else:\n",
    "                im = Image.open(temp_file)\n",
    "                im_acc = Image.open(temp_acc_file)\n",
    "                im_acc = Image.fromarray(np.hstack([im_acc,im]))\n",
    "                im_acc.save(temp_acc_file)\n",
    "\n",
    "        writer.append_data( imageio.imread(temp_acc_file))\n",
    "        if ti % 10 == 0:\n",
    "            print(ti, 'out of', T)"
   ]
  },
  {
   "cell_type": "code",
   "execution_count": 7,
   "metadata": {},
   "outputs": [],
   "source": [
    "import torch\n",
    "import networkx as nx\n",
    "import numpy as np\n",
    "import plotly.graph_objects as go\n",
    "import plotly\n",
    "import src.network_arranger as na\n",
    "import src.utils as utils\n",
    "import imageio\n",
    "import json\n",
    "from PIL import Image"
   ]
  },
  {
   "cell_type": "code",
   "execution_count": 8,
   "metadata": {},
   "outputs": [],
   "source": [
    "# Calculate positions of nodes\n",
    "x,y, stats = na.arrange_graph(G, T=300)"
   ]
  }
 ],
 "metadata": {
  "kernelspec": {
   "display_name": "jenv",
   "language": "python",
   "name": "python3"
  },
  "language_info": {
   "codemirror_mode": {
    "name": "ipython",
    "version": 3
   },
   "file_extension": ".py",
   "mimetype": "text/x-python",
   "name": "python",
   "nbconvert_exporter": "python",
   "pygments_lexer": "ipython3",
   "version": "3.9.15 (main, Nov 24 2022, 14:39:17) [MSC v.1916 64 bit (AMD64)]"
  },
  "orig_nbformat": 4,
  "vscode": {
   "interpreter": {
    "hash": "a6df720517243887f81f829574e18eed6582ce87175ffd531d5fa99bc43729cc"
   }
  }
 },
 "nbformat": 4,
 "nbformat_minor": 2
}
