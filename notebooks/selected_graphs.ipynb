{
 "cells": [
  {
   "cell_type": "code",
   "execution_count": 1,
   "metadata": {},
   "outputs": [
    {
     "name": "stdout",
     "output_type": "stream",
     "text": [
      "c:\\Users\\joelw\\OneDrive\\Documents\\Projects\\Programming\\Self-Arranging-Networks\n"
     ]
    },
    {
     "data": {
      "text/plain": [
       "'c:\\\\Users\\\\joelw\\\\OneDrive\\\\Documents\\\\Projects\\\\Programming\\\\Self-Arranging-Networks'"
      ]
     },
     "execution_count": 1,
     "metadata": {},
     "output_type": "execute_result"
    }
   ],
   "source": [
    "import os\n",
    "working_dir_path = %pwd  #look at the current work dir\n",
    "if os.path.basename(working_dir_path) == 'notebooks':\n",
    "    %cd ..\n",
    "%pwd "
   ]
  },
  {
   "cell_type": "code",
   "execution_count": 2,
   "metadata": {},
   "outputs": [],
   "source": [
    "import torch\n",
    "import networkx as nx\n",
    "import numpy as np\n",
    "import plotly.graph_objects as go\n",
    "import plotly\n",
    "import src.network_arranger as na\n",
    "import src.utils as utils\n",
    "import imageio\n",
    "import json\n",
    "from PIL import Image"
   ]
  },
  {
   "cell_type": "code",
   "execution_count": 3,
   "metadata": {},
   "outputs": [],
   "source": [
    "G = nx.empty_graph(3)\n",
    "G.add_edge(0,1)"
   ]
  },
  {
   "cell_type": "code",
   "execution_count": 5,
   "metadata": {},
   "outputs": [],
   "source": [
    "# Calculate positions of nodes\n",
    "x,y, stats = na.arrange_graph(G, T=100)"
   ]
  },
  {
   "cell_type": "code",
   "execution_count": 6,
   "metadata": {},
   "outputs": [
    {
     "data": {
      "application/vnd.plotly.v1+json": {
       "config": {
        "plotlyServerURL": "https://plot.ly"
       },
       "data": [
        {
         "line": {
          "color": "#FE5F55",
          "width": 2
         },
         "mode": "lines",
         "name": "Edges",
         "showlegend": true,
         "type": "scatter",
         "x": [
          -0.22952184081077576,
          0.03925706446170807,
          null
         ],
         "y": [
          1.483244776725769,
          0.2699570655822754,
          null
         ]
        },
        {
         "marker": {
          "color": "#4F6367",
          "size": 10
         },
         "mode": "markers",
         "name": "Nodes",
         "showlegend": true,
         "type": "scatter",
         "x": [
          -0.22952184081077576,
          0.03925706446170807,
          -2.2538585662841797
         ],
         "y": [
          1.483244776725769,
          0.2699570655822754,
          -2.4298133850097656
         ]
        }
       ],
       "frames": [
        {
         "data": [
          {
           "line": {
            "color": "#FE5F55",
            "width": 2
           },
           "mode": "lines",
           "name": "Edges",
           "showlegend": true,
           "type": "scatter",
           "x": [
            -0.22952184081077576,
            0.03925706446170807,
            null
           ],
           "y": [
            1.483244776725769,
            0.2699570655822754,
            null
           ]
          },
          {
           "marker": {
            "color": "#4F6367",
            "size": 10
           },
           "mode": "markers",
           "name": "Nodes",
           "showlegend": true,
           "type": "scatter",
           "x": [
            -0.22952184081077576,
            0.03925706446170807,
            -2.2538585662841797
           ],
           "y": [
            1.483244776725769,
            0.2699570655822754,
            -2.4298133850097656
           ]
          }
         ]
        },
        {
         "data": [
          {
           "line": {
            "color": "#FE5F55",
            "width": 2
           },
           "mode": "lines",
           "name": "Edges",
           "showlegend": true,
           "type": "scatter",
           "x": [
            -1.2295193672180176,
            -0.9607427716255188,
            null
           ],
           "y": [
            0.4832448959350586,
            1.2699570655822754,
            null
           ]
          },
          {
           "marker": {
            "color": "#4F6367",
            "size": 10
           },
           "mode": "markers",
           "name": "Nodes",
           "showlegend": true,
           "type": "scatter",
           "x": [
            -1.2295193672180176,
            -0.9607427716255188,
            -1.2538585662841797
           ],
           "y": [
            0.4832448959350586,
            1.2699570655822754,
            -1.4298135042190552
           ]
          }
         ]
        },
        {
         "data": [
          {
           "line": {
            "color": "#FE5F55",
            "width": 2
           },
           "mode": "lines",
           "name": "Edges",
           "showlegend": true,
           "type": "scatter",
           "x": [
            -1.9820880889892578,
            -0.4504254460334778,
            null
           ],
           "y": [
            -0.3953406810760498,
            2.0785467624664307,
            null
           ]
          },
          {
           "marker": {
            "color": "#4F6367",
            "size": 10
           },
           "mode": "markers",
           "name": "Nodes",
           "showlegend": true,
           "type": "scatter",
           "x": [
            -1.9820880889892578,
            -0.4504254460334778,
            -0.5060462355613708
           ],
           "y": [
            -0.3953406810760498,
            2.0785467624664307,
            -0.42965900897979736
           ]
          }
         ]
        },
        {
         "data": [
          {
           "line": {
            "color": "#FE5F55",
            "width": 2
           },
           "mode": "lines",
           "name": "Edges",
           "showlegend": true,
           "type": "scatter",
           "x": [
            -1.6540119647979736,
            -0.8756165504455566,
            null
           ],
           "y": [
            -0.3528144061565399,
            1.8904531002044678,
            null
           ]
          },
          {
           "marker": {
            "color": "#4F6367",
            "size": 10
           },
           "mode": "markers",
           "name": "Nodes",
           "showlegend": true,
           "type": "scatter",
           "x": [
            -1.6540119647979736,
            -0.8756165504455566,
            0.3135484457015991
           ],
           "y": [
            -0.3528144061565399,
            1.8904531002044678,
            0.534763753414154
           ]
          }
         ]
        },
        {
         "data": [
          {
           "line": {
            "color": "#FE5F55",
            "width": 2
           },
           "mode": "lines",
           "name": "Edges",
           "showlegend": true,
           "type": "scatter",
           "x": [
            -1.127763032913208,
            -1.4254642724990845,
            null
           ],
           "y": [
            0.009797900915145874,
            1.4275652170181274,
            null
           ]
          },
          {
           "marker": {
            "color": "#4F6367",
            "size": 10
           },
           "mode": "markers",
           "name": "Nodes",
           "showlegend": true,
           "type": "scatter",
           "x": [
            -1.127763032913208,
            -1.4254642724990845,
            0.4723186492919922
           ],
           "y": [
            0.009797900915145874,
            1.4275652170181274,
            1.3115708827972412
           ]
          }
         ]
        },
        {
         "data": [
          {
           "line": {
            "color": "#FE5F55",
            "width": 2
           },
           "mode": "lines",
           "name": "Edges",
           "showlegend": true,
           "type": "scatter",
           "x": [
            -0.7074850797653198,
            -1.795682668685913,
            null
           ],
           "y": [
            0.441110223531723,
            0.9215214252471924,
            null
           ]
          },
          {
           "marker": {
            "color": "#4F6367",
            "size": 10
           },
           "mode": "markers",
           "name": "Nodes",
           "showlegend": true,
           "type": "scatter",
           "x": [
            -0.7074850797653198,
            -1.795682668685913,
            0.26921600103378296
           ],
           "y": [
            0.441110223531723,
            0.9215214252471924,
            1.8624203205108643
           ]
          }
         ]
        },
        {
         "data": [
          {
           "line": {
            "color": "#FE5F55",
            "width": 2
           },
           "mode": "lines",
           "name": "Edges",
           "showlegend": true,
           "type": "scatter",
           "x": [
            -0.37664300203323364,
            -2.0297350883483887,
            null
           ],
           "y": [
            0.8244259357452393,
            0.4873826801776886,
            null
           ]
          },
          {
           "marker": {
            "color": "#4F6367",
            "size": 10
           },
           "mode": "markers",
           "name": "Nodes",
           "showlegend": true,
           "type": "scatter",
           "x": [
            -0.37664300203323364,
            -2.0297350883483887,
            -0.11476704478263855
           ],
           "y": [
            0.8244259357452393,
            0.4873826801776886,
            2.213690757751465
           ]
          }
         ]
        },
        {
         "data": [
          {
           "line": {
            "color": "#FE5F55",
            "width": 2
           },
           "mode": "lines",
           "name": "Edges",
           "showlegend": true,
           "type": "scatter",
           "x": [
            -0.46355605125427246,
            -1.864413857460022,
            null
           ],
           "y": [
            1.1008249521255493,
            0.16259637475013733,
            null
           ]
          },
          {
           "marker": {
            "color": "#4F6367",
            "size": 10
           },
           "mode": "markers",
           "name": "Nodes",
           "showlegend": true,
           "type": "scatter",
           "x": [
            -0.46355605125427246,
            -1.864413857460022,
            -0.5706833004951477
           ],
           "y": [
            1.1008249521255493,
            0.16259637475013733,
            2.560664176940918
           ]
          }
         ]
        },
        {
         "data": [
          {
           "line": {
            "color": "#FE5F55",
            "width": 2
           },
           "mode": "lines",
           "name": "Edges",
           "showlegend": true,
           "type": "scatter",
           "x": [
            -0.7566673755645752,
            -1.503947138786316,
            null
           ],
           "y": [
            1.2305189371109009,
            0.0000721663236618042,
            null
           ]
          },
          {
           "marker": {
            "color": "#4F6367",
            "size": 10
           },
           "mode": "markers",
           "name": "Nodes",
           "showlegend": true,
           "type": "scatter",
           "x": [
            -0.7566673755645752,
            -1.503947138786316,
            -1.0775883197784424
           ],
           "y": [
            1.2305189371109009,
            0.0000721663236618042,
            2.815277338027954
           ]
          }
         ]
        },
        {
         "data": [
          {
           "line": {
            "color": "#FE5F55",
            "width": 2
           },
           "mode": "lines",
           "name": "Edges",
           "showlegend": true,
           "type": "scatter",
           "x": [
            -1.1003749370574951,
            -1.1004798412322998,
            null
           ],
           "y": [
            1.252916932106018,
            -0.02754129469394684,
            null
           ]
          },
          {
           "marker": {
            "color": "#4F6367",
            "size": 10
           },
           "mode": "markers",
           "name": "Nodes",
           "showlegend": true,
           "type": "scatter",
           "x": [
            -1.1003749370574951,
            -1.1004798412322998,
            -1.562767744064331
           ],
           "y": [
            1.252916932106018,
            -0.02754129469394684,
            2.8557541370391846
           ]
          }
         ]
        },
        {
         "data": [
          {
           "line": {
            "color": "#FE5F55",
            "width": 2
           },
           "mode": "lines",
           "name": "Edges",
           "showlegend": true,
           "type": "scatter",
           "x": [
            -1.407831072807312,
            -0.7460678219795227,
            null
           ],
           "y": [
            1.2219237089157104,
            0.023178409785032272,
            null
           ]
          },
          {
           "marker": {
            "color": "#4F6367",
            "size": 10
           },
           "mode": "markers",
           "name": "Nodes",
           "showlegend": true,
           "type": "scatter",
           "x": [
            -1.407831072807312,
            -0.7460678219795227,
            -1.9556078910827637
           ],
           "y": [
            1.2219237089157104,
            0.023178409785032272,
            2.707949638366699
           ]
          }
         ]
        },
        {
         "data": [
          {
           "line": {
            "color": "#FE5F55",
            "width": 2
           },
           "mode": "lines",
           "name": "Edges",
           "showlegend": true,
           "type": "scatter",
           "x": [
            -1.614128828048706,
            -0.5073654651641846,
            null
           ],
           "y": [
            1.1199476718902588,
            0.15870071947574615,
            null
           ]
          },
          {
           "marker": {
            "color": "#4F6367",
            "size": 10
           },
           "mode": "markers",
           "name": "Nodes",
           "showlegend": true,
           "type": "scatter",
           "x": [
            -1.614128828048706,
            -0.5073654651641846,
            -2.227814197540283
           ],
           "y": [
            1.1199476718902588,
            0.15870071947574615,
            2.456021308898926
           ]
          }
         ]
        },
        {
         "data": [
          {
           "line": {
            "color": "#FE5F55",
            "width": 2
           },
           "mode": "lines",
           "name": "Edges",
           "showlegend": true,
           "type": "scatter",
           "x": [
            -1.6544255018234253,
            -0.4430815577507019,
            null
           ],
           "y": [
            0.9477251768112183,
            0.36541661620140076,
            null
           ]
          },
          {
           "marker": {
            "color": "#4F6367",
            "size": 10
           },
           "mode": "markers",
           "name": "Nodes",
           "showlegend": true,
           "type": "scatter",
           "x": [
            -1.6544255018234253,
            -0.4430815577507019,
            -2.3953304290771484
           ],
           "y": [
            0.9477251768112183,
            0.36541661620140076,
            2.188143253326416
           ]
          }
         ]
        },
        {
         "data": [
          {
           "line": {
            "color": "#FE5F55",
            "width": 2
           },
           "mode": "lines",
           "name": "Edges",
           "showlegend": true,
           "type": "scatter",
           "x": [
            -1.5761303901672363,
            -0.5049317479133606,
            null
           ],
           "y": [
            0.7485060095787048,
            0.596505880355835,
            null
           ]
          },
          {
           "marker": {
            "color": "#4F6367",
            "size": 10
           },
           "mode": "markers",
           "name": "Nodes",
           "showlegend": true,
           "type": "scatter",
           "x": [
            -1.5761303901672363,
            -0.5049317479133606,
            -2.470186471939087
           ],
           "y": [
            0.7485060095787048,
            0.596505880355835,
            1.936868667602539
           ]
          }
         ]
        },
        {
         "data": [
          {
           "line": {
            "color": "#FE5F55",
            "width": 2
           },
           "mode": "lines",
           "name": "Edges",
           "showlegend": true,
           "type": "scatter",
           "x": [
            -1.550355315208435,
            -0.5328668355941772,
            null
           ],
           "y": [
            0.5642027258872986,
            0.8115491271018982,
            null
           ]
          },
          {
           "marker": {
            "color": "#4F6367",
            "size": 10
           },
           "mode": "markers",
           "name": "Nodes",
           "showlegend": true,
           "type": "scatter",
           "x": [
            -1.550355315208435,
            -0.5328668355941772,
            -2.446650743484497
           ],
           "y": [
            0.5642027258872986,
            0.8115491271018982,
            1.6950262784957886
           ]
          }
         ]
        },
        {
         "data": [
          {
           "line": {
            "color": "#FE5F55",
            "width": 2
           },
           "mode": "lines",
           "name": "Edges",
           "showlegend": true,
           "type": "scatter",
           "x": [
            -1.59573495388031,
            -0.5009596347808838,
            null
           ],
           "y": [
            0.3717793822288513,
            1.0260897874832153,
            null
           ]
          },
          {
           "marker": {
            "color": "#4F6367",
            "size": 10
           },
           "mode": "markers",
           "name": "Nodes",
           "showlegend": true,
           "type": "scatter",
           "x": [
            -1.59573495388031,
            -0.5009596347808838,
            -2.3771843910217285
           ],
           "y": [
            0.3717793822288513,
            1.0260897874832153,
            1.5185941457748413
           ]
          }
         ]
        },
        {
         "data": [
          {
           "line": {
            "color": "#FE5F55",
            "width": 2
           },
           "mode": "lines",
           "name": "Edges",
           "showlegend": true,
           "type": "scatter",
           "x": [
            -1.5524907112121582,
            -0.5513683557510376,
            null
           ],
           "y": [
            0.20428146421909332,
            1.1983988285064697,
            null
           ]
          },
          {
           "marker": {
            "color": "#4F6367",
            "size": 10
           },
           "mode": "markers",
           "name": "Nodes",
           "showlegend": true,
           "type": "scatter",
           "x": [
            -1.5524907112121582,
            -0.5513683557510376,
            -2.315479040145874
           ],
           "y": [
            0.20428146421909332,
            1.1983988285064697,
            1.472954273223877
           ]
          }
         ]
        },
        {
         "data": [
          {
           "line": {
            "color": "#FE5F55",
            "width": 2
           },
           "mode": "lines",
           "name": "Edges",
           "showlegend": true,
           "type": "scatter",
           "x": [
            -1.4061658382415771,
            -0.6995816826820374,
            null
           ],
           "y": [
            0.10796966403722763,
            1.2897863388061523,
            null
           ]
          },
          {
           "marker": {
            "color": "#4F6367",
            "size": 10
           },
           "mode": "markers",
           "name": "Nodes",
           "showlegend": true,
           "type": "scatter",
           "x": [
            -1.4061658382415771,
            -0.6995816826820374,
            -2.251540184020996
           ],
           "y": [
            0.10796966403722763,
            1.2897863388061523,
            1.5011812448501587
           ]
          }
         ]
        },
        {
         "data": [
          {
           "line": {
            "color": "#FE5F55",
            "width": 2
           },
           "mode": "lines",
           "name": "Edges",
           "showlegend": true,
           "type": "scatter",
           "x": [
            -1.2101184129714966,
            -0.8863924741744995,
            null
           ],
           "y": [
            0.0918416678905487,
            1.3008227348327637,
            null
           ]
          },
          {
           "marker": {
            "color": "#4F6367",
            "size": 10
           },
           "mode": "markers",
           "name": "Nodes",
           "showlegend": true,
           "type": "scatter",
           "x": [
            -1.2101184129714966,
            -0.8863924741744995,
            -2.246955394744873
           ],
           "y": [
            0.0918416678905487,
            1.3008227348327637,
            1.5372971296310425
           ]
          }
         ]
        },
        {
         "data": [
          {
           "line": {
            "color": "#FE5F55",
            "width": 2
           },
           "mode": "lines",
           "name": "Edges",
           "showlegend": true,
           "type": "scatter",
           "x": [
            -1.0223430395126343,
            -1.038339376449585,
            null
           ],
           "y": [
            0.12262021005153656,
            1.2677167654037476,
            null
           ]
          },
          {
           "marker": {
            "color": "#4F6367",
            "size": 10
           },
           "mode": "markers",
           "name": "Nodes",
           "showlegend": true,
           "type": "scatter",
           "x": [
            -1.0223430395126343,
            -1.038339376449585,
            -2.4104647636413574
           ],
           "y": [
            0.12262021005153656,
            1.2677167654037476,
            1.5568764209747314
           ]
          }
         ]
        },
        {
         "data": [
          {
           "line": {
            "color": "#FE5F55",
            "width": 2
           },
           "mode": "lines",
           "name": "Edges",
           "showlegend": true,
           "type": "scatter",
           "x": [
            -0.8668766021728516,
            -1.1470885276794434,
            null
           ],
           "y": [
            0.15675202012062073,
            1.237671971321106,
            null
           ]
          },
          {
           "marker": {
            "color": "#4F6367",
            "size": 10
           },
           "mode": "markers",
           "name": "Nodes",
           "showlegend": true,
           "type": "scatter",
           "x": [
            -0.8668766021728516,
            -1.1470885276794434,
            -2.647503137588501
           ],
           "y": [
            0.15675202012062073,
            1.237671971321106,
            1.5295037031173706
           ]
          }
         ]
        },
        {
         "data": [
          {
           "line": {
            "color": "#FE5F55",
            "width": 2
           },
           "mode": "lines",
           "name": "Edges",
           "showlegend": true,
           "type": "scatter",
           "x": [
            -0.7417187094688416,
            -1.2408814430236816,
            null
           ],
           "y": [
            0.18158301711082458,
            1.2267465591430664,
            null
           ]
          },
          {
           "marker": {
            "color": "#4F6367",
            "size": 10
           },
           "mode": "markers",
           "name": "Nodes",
           "showlegend": true,
           "type": "scatter",
           "x": [
            -0.7417187094688416,
            -1.2408814430236816,
            -2.7991795539855957
           ],
           "y": [
            0.18158301711082458,
            1.2267465591430664,
            1.430379033088684
           ]
          }
         ]
        },
        {
         "data": [
          {
           "line": {
            "color": "#FE5F55",
            "width": 2
           },
           "mode": "lines",
           "name": "Edges",
           "showlegend": true,
           "type": "scatter",
           "x": [
            -0.6567266583442688,
            -1.3179829120635986,
            null
           ],
           "y": [
            0.21699868142604828,
            1.2145273685455322,
            null
           ]
          },
          {
           "marker": {
            "color": "#4F6367",
            "size": 10
           },
           "mode": "markers",
           "name": "Nodes",
           "showlegend": true,
           "type": "scatter",
           "x": [
            -0.6567266583442688,
            -1.3179829120635986,
            -2.8206121921539307
           ],
           "y": [
            0.21699868142604828,
            1.2145273685455322,
            1.2662131786346436
           ]
          }
         ]
        },
        {
         "data": [
          {
           "line": {
            "color": "#FE5F55",
            "width": 2
           },
           "mode": "lines",
           "name": "Edges",
           "showlegend": true,
           "type": "scatter",
           "x": [
            -0.6251323819160461,
            -1.3570477962493896,
            null
           ],
           "y": [
            0.27512142062187195,
            1.1867731809616089,
            null
           ]
          },
          {
           "marker": {
            "color": "#4F6367",
            "size": 10
           },
           "mode": "markers",
           "name": "Nodes",
           "showlegend": true,
           "type": "scatter",
           "x": [
            -0.6251323819160461,
            -1.3570477962493896,
            -2.7674765586853027
           ],
           "y": [
            0.27512142062187195,
            1.1867731809616089,
            1.0534197092056274
           ]
          }
         ]
        },
        {
         "data": [
          {
           "line": {
            "color": "#FE5F55",
            "width": 2
           },
           "mode": "lines",
           "name": "Edges",
           "showlegend": true,
           "type": "scatter",
           "x": [
            -0.632037341594696,
            -1.3576329946517944,
            null
           ],
           "y": [
            0.34064483642578125,
            1.157897710800171,
            null
           ]
          },
          {
           "marker": {
            "color": "#4F6367",
            "size": 10
           },
           "mode": "markers",
           "name": "Nodes",
           "showlegend": true,
           "type": "scatter",
           "x": [
            -0.632037341594696,
            -1.3576329946517944,
            -2.72515606880188
           ],
           "y": [
            0.34064483642578125,
            1.157897710800171,
            0.7979991436004639
           ]
          }
         ]
        },
        {
         "data": [
          {
           "line": {
            "color": "#FE5F55",
            "width": 2
           },
           "mode": "lines",
           "name": "Edges",
           "showlegend": true,
           "type": "scatter",
           "x": [
            -0.6331530213356018,
            -1.3606202602386475,
            null
           ],
           "y": [
            0.3796972930431366,
            1.1612184047698975,
            null
           ]
          },
          {
           "marker": {
            "color": "#4F6367",
            "size": 10
           },
           "mode": "markers",
           "name": "Nodes",
           "showlegend": true,
           "type": "scatter",
           "x": [
            -0.6331530213356018,
            -1.3606202602386475,
            -2.7012181282043457
           ],
           "y": [
            0.3796972930431366,
            1.1612184047698975,
            0.5021044015884399
           ]
          }
         ]
        },
        {
         "data": [
          {
           "line": {
            "color": "#FE5F55",
            "width": 2
           },
           "mode": "lines",
           "name": "Edges",
           "showlegend": true,
           "type": "scatter",
           "x": [
            -0.6112398505210876,
            -1.3944077491760254,
            null
           ],
           "y": [
            0.3809258043766022,
            1.2044949531555176,
            null
           ]
          },
          {
           "marker": {
            "color": "#4F6367",
            "size": 10
           },
           "mode": "markers",
           "name": "Nodes",
           "showlegend": true,
           "type": "scatter",
           "x": [
            -0.6112398505210876,
            -1.3944077491760254,
            -2.6249184608459473
           ],
           "y": [
            0.3809258043766022,
            1.2044949531555176,
            0.18859019875526428
           ]
          }
         ]
        },
        {
         "data": [
          {
           "line": {
            "color": "#FE5F55",
            "width": 2
           },
           "mode": "lines",
           "name": "Edges",
           "showlegend": true,
           "type": "scatter",
           "x": [
            -0.6063171029090881,
            -1.4305580854415894,
            null
           ],
           "y": [
            0.37370362877845764,
            1.252772569656372,
            null
           ]
          },
          {
           "marker": {
            "color": "#4F6367",
            "size": 10
           },
           "mode": "markers",
           "name": "Nodes",
           "showlegend": true,
           "type": "scatter",
           "x": [
            -0.6063171029090881,
            -1.4305580854415894,
            -2.4435219764709473
           ],
           "y": [
            0.37370362877845764,
            1.252772569656372,
            -0.10131600499153137
           ]
          }
         ]
        },
        {
         "data": [
          {
           "line": {
            "color": "#FE5F55",
            "width": 2
           },
           "mode": "lines",
           "name": "Edges",
           "showlegend": true,
           "type": "scatter",
           "x": [
            -0.645628035068512,
            -1.4421167373657227,
            null
           ],
           "y": [
            0.3819217383861542,
            1.2764503955841064,
            null
           ]
          },
          {
           "marker": {
            "color": "#4F6367",
            "size": 10
           },
           "mode": "markers",
           "name": "Nodes",
           "showlegend": true,
           "type": "scatter",
           "x": [
            -0.645628035068512,
            -1.4421167373657227,
            -2.166773557662964
           ],
           "y": [
            0.3819217383861542,
            1.2764503955841064,
            -0.32499948143959045
           ]
          }
         ]
        },
        {
         "data": [
          {
           "line": {
            "color": "#FE5F55",
            "width": 2
           },
           "mode": "lines",
           "name": "Edges",
           "showlegend": true,
           "type": "scatter",
           "x": [
            -0.7058335542678833,
            -1.4363478422164917,
            null
           ],
           "y": [
            0.4045468270778656,
            1.275854229927063,
            null
           ]
          },
          {
           "marker": {
            "color": "#4F6367",
            "size": 10
           },
           "mode": "markers",
           "name": "Nodes",
           "showlegend": true,
           "type": "scatter",
           "x": [
            -0.7058335542678833,
            -1.4363478422164917,
            -1.8758094310760498
           ],
           "y": [
            0.4045468270778656,
            1.275854229927063,
            -0.47753798961639404
           ]
          }
         ]
        },
        {
         "data": [
          {
           "line": {
            "color": "#FE5F55",
            "width": 2
           },
           "mode": "lines",
           "name": "Edges",
           "showlegend": true,
           "type": "scatter",
           "x": [
            -0.7327448725700378,
            -1.4429265260696411,
            null
           ],
           "y": [
            0.42756202816963196,
            1.2733219861984253,
            null
           ]
          },
          {
           "marker": {
            "color": "#4F6367",
            "size": 10
           },
           "mode": "markers",
           "name": "Nodes",
           "showlegend": true,
           "type": "scatter",
           "x": [
            -0.7327448725700378,
            -1.4429265260696411,
            -1.6959221363067627
           ],
           "y": [
            0.42756202816963196,
            1.2733219861984253,
            -0.6192052960395813
           ]
          }
         ]
        },
        {
         "data": [
          {
           "line": {
            "color": "#FE5F55",
            "width": 2
           },
           "mode": "lines",
           "name": "Edges",
           "showlegend": true,
           "type": "scatter",
           "x": [
            -0.7088857293128967,
            -1.4773340225219727,
            null
           ],
           "y": [
            0.4424709677696228,
            1.27891206741333,
            null
           ]
          },
          {
           "marker": {
            "color": "#4F6367",
            "size": 10
           },
           "mode": "markers",
           "name": "Nodes",
           "showlegend": true,
           "type": "scatter",
           "x": [
            -0.7088857293128967,
            -1.4773340225219727,
            -1.6322985887527466
           ],
           "y": [
            0.4424709677696228,
            1.27891206741333,
            -0.761637806892395
           ]
          }
         ]
        },
        {
         "data": [
          {
           "line": {
            "color": "#FE5F55",
            "width": 2
           },
           "mode": "lines",
           "name": "Edges",
           "showlegend": true,
           "type": "scatter",
           "x": [
            -0.6671894788742065,
            -1.5204901695251465,
            null
           ],
           "y": [
            0.4570052921772003,
            1.273518681526184,
            null
           ]
          },
          {
           "marker": {
            "color": "#4F6367",
            "size": 10
           },
           "mode": "markers",
           "name": "Nodes",
           "showlegend": true,
           "type": "scatter",
           "x": [
            -0.6671894788742065,
            -1.5204901695251465,
            -1.6145668029785156
           ],
           "y": [
            0.4570052921772003,
            1.273518681526184,
            -0.824068009853363
           ]
          }
         ]
        },
        {
         "data": [
          {
           "line": {
            "color": "#FE5F55",
            "width": 2
           },
           "mode": "lines",
           "name": "Edges",
           "showlegend": true,
           "type": "scatter",
           "x": [
            -0.6409111022949219,
            -1.546566367149353,
            null
           ],
           "y": [
            0.4831504821777344,
            1.239487648010254,
            null
           ]
          },
          {
           "marker": {
            "color": "#4F6367",
            "size": 10
           },
           "mode": "markers",
           "name": "Nodes",
           "showlegend": true,
           "type": "scatter",
           "x": [
            -0.6409111022949219,
            -1.546566367149353,
            -1.6095412969589233
           ],
           "y": [
            0.4831504821777344,
            1.239487648010254,
            -0.7677291631698608
           ]
          }
         ]
        },
        {
         "data": [
          {
           "line": {
            "color": "#FE5F55",
            "width": 2
           },
           "mode": "lines",
           "name": "Edges",
           "showlegend": true,
           "type": "scatter",
           "x": [
            -0.6281501054763794,
            -1.556146502494812,
            null
           ],
           "y": [
            0.5196437239646912,
            1.1824746131896973,
            null
           ]
          },
          {
           "marker": {
            "color": "#4F6367",
            "size": 10
           },
           "mode": "markers",
           "name": "Nodes",
           "showlegend": true,
           "type": "scatter",
           "x": [
            -0.6281501054763794,
            -1.556146502494812,
            -1.6240047216415405
           ],
           "y": [
            0.5196437239646912,
            1.1824746131896973,
            -0.6253753304481506
           ]
          }
         ]
        },
        {
         "data": [
          {
           "line": {
            "color": "#FE5F55",
            "width": 2
           },
           "mode": "lines",
           "name": "Edges",
           "showlegend": true,
           "type": "scatter",
           "x": [
            -0.5961004495620728,
            -1.5746383666992188,
            null
           ],
           "y": [
            0.5566205382347107,
            1.1251367330551147,
            null
           ]
          },
          {
           "marker": {
            "color": "#4F6367",
            "size": 10
           },
           "mode": "markers",
           "name": "Nodes",
           "showlegend": true,
           "type": "scatter",
           "x": [
            -0.5961004495620728,
            -1.5746383666992188,
            -1.690698266029358
           ],
           "y": [
            0.5566205382347107,
            1.1251367330551147,
            -0.48406654596328735
           ]
          }
         ]
        },
        {
         "data": [
          {
           "line": {
            "color": "#FE5F55",
            "width": 2
           },
           "mode": "lines",
           "name": "Edges",
           "showlegend": true,
           "type": "scatter",
           "x": [
            -0.5371662974357605,
            -1.607453465461731,
            null
           ],
           "y": [
            0.5919159054756165,
            1.0817962884902954,
            null
           ]
          },
          {
           "marker": {
            "color": "#4F6367",
            "size": 10
           },
           "mode": "markers",
           "name": "Nodes",
           "showlegend": true,
           "type": "scatter",
           "x": [
            -0.5371662974357605,
            -1.607453465461731,
            -1.819322109222412
           ],
           "y": [
            0.5919159054756165,
            1.0817962884902954,
            -0.42664167284965515
           ]
          }
         ]
        },
        {
         "data": [
          {
           "line": {
            "color": "#FE5F55",
            "width": 2
           },
           "mode": "lines",
           "name": "Edges",
           "showlegend": true,
           "type": "scatter",
           "x": [
            -0.5000371336936951,
            -1.618881344795227,
            null
           ],
           "y": [
            0.6295994520187378,
            1.0476603507995605,
            null
           ]
          },
          {
           "marker": {
            "color": "#4F6367",
            "size": 10
           },
           "mode": "markers",
           "name": "Nodes",
           "showlegend": true,
           "type": "scatter",
           "x": [
            -0.5000371336936951,
            -1.618881344795227,
            -1.9505878686904907
           ],
           "y": [
            0.6295994520187378,
            1.0476603507995605,
            -0.44680649042129517
           ]
          }
         ]
        },
        {
         "data": [
          {
           "line": {
            "color": "#FE5F55",
            "width": 2
           },
           "mode": "lines",
           "name": "Edges",
           "showlegend": true,
           "type": "scatter",
           "x": [
            -0.5092631578445435,
            -1.596736192703247,
            null
           ],
           "y": [
            0.6655086874961853,
            1.0186446905136108,
            null
           ]
          },
          {
           "marker": {
            "color": "#4F6367",
            "size": 10
           },
           "mode": "markers",
           "name": "Nodes",
           "showlegend": true,
           "type": "scatter",
           "x": [
            -0.5092631578445435,
            -1.596736192703247,
            -2.022700548171997
           ],
           "y": [
            0.6655086874961853,
            1.0186446905136108,
            -0.48944979906082153
           ]
          }
         ]
        },
        {
         "data": [
          {
           "line": {
            "color": "#FE5F55",
            "width": 2
           },
           "mode": "lines",
           "name": "Edges",
           "showlegend": true,
           "type": "scatter",
           "x": [
            -0.5259530544281006,
            -1.5829033851623535,
            null
           ],
           "y": [
            0.6870822310447693,
            1.0004998445510864,
            null
           ]
          },
          {
           "marker": {
            "color": "#4F6367",
            "size": 10
           },
           "mode": "markers",
           "name": "Nodes",
           "showlegend": true,
           "type": "scatter",
           "x": [
            -0.5259530544281006,
            -1.5829033851623535,
            -2.0109541416168213
           ],
           "y": [
            0.6870822310447693,
            1.0004998445510864,
            -0.510315477848053
           ]
          }
         ]
        },
        {
         "data": [
          {
           "line": {
            "color": "#FE5F55",
            "width": 2
           },
           "mode": "lines",
           "name": "Edges",
           "showlegend": true,
           "type": "scatter",
           "x": [
            -0.5123989582061768,
            -1.6122158765792847,
            null
           ],
           "y": [
            0.6878100633621216,
            0.9992077946662903,
            null
           ]
          },
          {
           "marker": {
            "color": "#4F6367",
            "size": 10
           },
           "mode": "markers",
           "name": "Nodes",
           "showlegend": true,
           "type": "scatter",
           "x": [
            -0.5123989582061768,
            -1.6122158765792847,
            -1.923522710800171
           ],
           "y": [
            0.6878100633621216,
            0.9992077946662903,
            -0.5064860582351685
           ]
          }
         ]
        },
        {
         "data": [
          {
           "line": {
            "color": "#FE5F55",
            "width": 2
           },
           "mode": "lines",
           "name": "Edges",
           "showlegend": true,
           "type": "scatter",
           "x": [
            -0.5046811103820801,
            -1.645521879196167,
            null
           ],
           "y": [
            0.67828768491745,
            1.0092988014221191,
            null
           ]
          },
          {
           "marker": {
            "color": "#4F6367",
            "size": 10
           },
           "mode": "markers",
           "name": "Nodes",
           "showlegend": true,
           "type": "scatter",
           "x": [
            -0.5046811103820801,
            -1.645521879196167,
            -1.7853145599365234
           ],
           "y": [
            0.67828768491745,
            1.0092988014221191,
            -0.5111563205718994
           ]
          }
         ]
        },
        {
         "data": [
          {
           "line": {
            "color": "#FE5F55",
            "width": 2
           },
           "mode": "lines",
           "name": "Edges",
           "showlegend": true,
           "type": "scatter",
           "x": [
            -0.5333528518676758,
            -1.6478627920150757,
            null
           ],
           "y": [
            0.6700056791305542,
            1.0239006280899048,
            null
           ]
          },
          {
           "marker": {
            "color": "#4F6367",
            "size": 10
           },
           "mode": "markers",
           "name": "Nodes",
           "showlegend": true,
           "type": "scatter",
           "x": [
            -0.5333528518676758,
            -1.6478627920150757,
            -1.6262259483337402
           ],
           "y": [
            0.6700056791305542,
            1.0239006280899048,
            -0.5539949536323547
           ]
          }
         ]
        },
        {
         "data": [
          {
           "line": {
            "color": "#FE5F55",
            "width": 2
           },
           "mode": "lines",
           "name": "Edges",
           "showlegend": true,
           "type": "scatter",
           "x": [
            -0.5718529224395752,
            -1.63801908493042,
            null
           ],
           "y": [
            0.665331244468689,
            1.0402343273162842,
            null
           ]
          },
          {
           "marker": {
            "color": "#4F6367",
            "size": 10
           },
           "mode": "markers",
           "name": "Nodes",
           "showlegend": true,
           "type": "scatter",
           "x": [
            -0.5718529224395752,
            -1.63801908493042,
            -1.4818260669708252
           ],
           "y": [
            0.665331244468689,
            1.0402343273162842,
            -0.6319112777709961
           ]
          }
         ]
        },
        {
         "data": [
          {
           "line": {
            "color": "#FE5F55",
            "width": 2
           },
           "mode": "lines",
           "name": "Edges",
           "showlegend": true,
           "type": "scatter",
           "x": [
            -0.580970287322998,
            -1.6492723226547241,
            null
           ],
           "y": [
            0.6602364182472229,
            1.0573351383209229,
            null
           ]
          },
          {
           "marker": {
            "color": "#4F6367",
            "size": 10
           },
           "mode": "markers",
           "name": "Nodes",
           "showlegend": true,
           "type": "scatter",
           "x": [
            -0.580970287322998,
            -1.6492723226547241,
            -1.3751941919326782
           ],
           "y": [
            0.6602364182472229,
            1.0573351383209229,
            -0.712164044380188
           ]
          }
         ]
        },
        {
         "data": [
          {
           "line": {
            "color": "#FE5F55",
            "width": 2
           },
           "mode": "lines",
           "name": "Edges",
           "showlegend": true,
           "type": "scatter",
           "x": [
            -0.572515606880188,
            -1.669683575630188,
            null
           ],
           "y": [
            0.6568272113800049,
            1.066077470779419,
            null
           ]
          },
          {
           "marker": {
            "color": "#4F6367",
            "size": 10
           },
           "mode": "markers",
           "name": "Nodes",
           "showlegend": true,
           "type": "scatter",
           "x": [
            -0.572515606880188,
            -1.669683575630188,
            -1.3096797466278076
           ],
           "y": [
            0.6568272113800049,
            1.066077470779419,
            -0.7478662133216858
           ]
          }
         ]
        },
        {
         "data": [
          {
           "line": {
            "color": "#FE5F55",
            "width": 2
           },
           "mode": "lines",
           "name": "Edges",
           "showlegend": true,
           "type": "scatter",
           "x": [
            -0.5754649043083191,
            -1.6709225177764893,
            null
           ],
           "y": [
            0.6619077920913696,
            1.0573498010635376,
            null
           ]
          },
          {
           "marker": {
            "color": "#4F6367",
            "size": 10
           },
           "mode": "markers",
           "name": "Nodes",
           "showlegend": true,
           "type": "scatter",
           "x": [
            -0.5754649043083191,
            -1.6709225177764893,
            -1.2880377769470215
           ],
           "y": [
            0.6619077920913696,
            1.0573498010635376,
            -0.7232704758644104
           ]
          }
         ]
        },
        {
         "data": [
          {
           "line": {
            "color": "#FE5F55",
            "width": 2
           },
           "mode": "lines",
           "name": "Edges",
           "showlegend": true,
           "type": "scatter",
           "x": [
            -0.5815654397010803,
            -1.6598765850067139,
            null
           ],
           "y": [
            0.6759805083274841,
            1.0354564189910889,
            null
           ]
          },
          {
           "marker": {
            "color": "#4F6367",
            "size": 10
           },
           "mode": "markers",
           "name": "Nodes",
           "showlegend": true,
           "type": "scatter",
           "x": [
            -0.5815654397010803,
            -1.6598765850067139,
            -1.3156131505966187
           ],
           "y": [
            0.6759805083274841,
            1.0354564189910889,
            -0.6702625155448914
           ]
          }
         ]
        },
        {
         "data": [
          {
           "line": {
            "color": "#FE5F55",
            "width": 2
           },
           "mode": "lines",
           "name": "Edges",
           "showlegend": true,
           "type": "scatter",
           "x": [
            -0.5630713105201721,
            -1.6634434461593628,
            null
           ],
           "y": [
            0.694682776927948,
            1.012040615081787,
            null
           ]
          },
          {
           "marker": {
            "color": "#4F6367",
            "size": 10
           },
           "mode": "markers",
           "name": "Nodes",
           "showlegend": true,
           "type": "scatter",
           "x": [
            -0.5630713105201721,
            -1.6634434461593628,
            -1.390688419342041
           ],
           "y": [
            0.694682776927948,
            1.012040615081787,
            -0.6373621821403503
           ]
          }
         ]
        },
        {
         "data": [
          {
           "line": {
            "color": "#FE5F55",
            "width": 2
           },
           "mode": "lines",
           "name": "Edges",
           "showlegend": true,
           "type": "scatter",
           "x": [
            -0.5320982336997986,
            -1.6743662357330322,
            null
           ],
           "y": [
            0.7161198258399963,
            0.9900751113891602,
            null
           ]
          },
          {
           "marker": {
            "color": "#4F6367",
            "size": 10
           },
           "mode": "markers",
           "name": "Nodes",
           "showlegend": true,
           "type": "scatter",
           "x": [
            -0.5320982336997986,
            -1.6743662357330322,
            -1.490142822265625
           ],
           "y": [
            0.7161198258399963,
            0.9900751113891602,
            -0.6318615078926086
           ]
          }
         ]
        },
        {
         "data": [
          {
           "line": {
            "color": "#FE5F55",
            "width": 2
           },
           "mode": "lines",
           "name": "Edges",
           "showlegend": true,
           "type": "scatter",
           "x": [
            -0.5233269929885864,
            -1.6666070222854614,
            null
           ],
           "y": [
            0.7378900647163391,
            0.9680628180503845,
            null
           ]
          },
          {
           "marker": {
            "color": "#4F6367",
            "size": 10
           },
           "mode": "markers",
           "name": "Nodes",
           "showlegend": true,
           "type": "scatter",
           "x": [
            -0.5233269929885864,
            -1.6666070222854614,
            -1.5757449865341187
           ],
           "y": [
            0.7378900647163391,
            0.9680628180503845,
            -0.6282210350036621
           ]
          }
         ]
        },
        {
         "data": [
          {
           "line": {
            "color": "#FE5F55",
            "width": 2
           },
           "mode": "lines",
           "name": "Edges",
           "showlegend": true,
           "type": "scatter",
           "x": [
            -0.5323209166526794,
            -1.6492228507995605,
            null
           ],
           "y": [
            0.7540233731269836,
            0.9506632089614868,
            null
           ]
          },
          {
           "marker": {
            "color": "#4F6367",
            "size": 10
           },
           "mode": "markers",
           "name": "Nodes",
           "showlegend": true,
           "type": "scatter",
           "x": [
            -0.5323209166526794,
            -1.6492228507995605,
            -1.6220121383666992
           ],
           "y": [
            0.7540233731269836,
            0.9506632089614868,
            -0.6183472871780396
           ]
          }
         ]
        },
        {
         "data": [
          {
           "line": {
            "color": "#FE5F55",
            "width": 2
           },
           "mode": "lines",
           "name": "Edges",
           "showlegend": true,
           "type": "scatter",
           "x": [
            -0.5280827879905701,
            -1.6530126333236694,
            null
           ],
           "y": [
            0.7595516443252563,
            0.944449782371521,
            null
           ]
          },
          {
           "marker": {
            "color": "#4F6367",
            "size": 10
           },
           "mode": "markers",
           "name": "Nodes",
           "showlegend": true,
           "type": "scatter",
           "x": [
            -0.5280827879905701,
            -1.6530126333236694,
            -1.6234763860702515
           ],
           "y": [
            0.7595516443252563,
            0.944449782371521,
            -0.6133044958114624
           ]
          }
         ]
        },
        {
         "data": [
          {
           "line": {
            "color": "#FE5F55",
            "width": 2
           },
           "mode": "lines",
           "name": "Edges",
           "showlegend": true,
           "type": "scatter",
           "x": [
            -0.5179986357688904,
            -1.6704864501953125,
            null
           ],
           "y": [
            0.7559995651245117,
            0.9488916397094727,
            null
           ]
          },
          {
           "marker": {
            "color": "#4F6367",
            "size": 10
           },
           "mode": "markers",
           "name": "Nodes",
           "showlegend": true,
           "type": "scatter",
           "x": [
            -0.5179986357688904,
            -1.6704864501953125,
            -1.582363486289978
           ],
           "y": [
            0.7559995651245117,
            0.9488916397094727,
            -0.6195139288902283
           ]
          }
         ]
        },
        {
         "data": [
          {
           "line": {
            "color": "#FE5F55",
            "width": 2
           },
           "mode": "lines",
           "name": "Edges",
           "showlegend": true,
           "type": "scatter",
           "x": [
            -0.5295395851135254,
            -1.6737773418426514,
            null
           ],
           "y": [
            0.7481743097305298,
            0.9585333466529846,
            null
           ]
          },
          {
           "marker": {
            "color": "#4F6367",
            "size": 10
           },
           "mode": "markers",
           "name": "Nodes",
           "showlegend": true,
           "type": "scatter",
           "x": [
            -0.5295395851135254,
            -1.6737773418426514,
            -1.5067082643508911
           ],
           "y": [
            0.7481743097305298,
            0.9585333466529846,
            -0.6322439312934875
           ]
          }
         ]
        },
        {
         "data": [
          {
           "line": {
            "color": "#FE5F55",
            "width": 2
           },
           "mode": "lines",
           "name": "Edges",
           "showlegend": true,
           "type": "scatter",
           "x": [
            -0.5523926615715027,
            -1.6689141988754272,
            null
           ],
           "y": [
            0.7387642860412598,
            0.9703763127326965,
            null
           ]
          },
          {
           "marker": {
            "color": "#4F6367",
            "size": 10
           },
           "mode": "markers",
           "name": "Nodes",
           "showlegend": true,
           "type": "scatter",
           "x": [
            -0.5523926615715027,
            -1.6689141988754272,
            -1.4168426990509033
           ],
           "y": [
            0.7387642860412598,
            0.9703763127326965,
            -0.6491934657096863
           ]
          }
         ]
        },
        {
         "data": [
          {
           "line": {
            "color": "#FE5F55",
            "width": 2
           },
           "mode": "lines",
           "name": "Edges",
           "showlegend": true,
           "type": "scatter",
           "x": [
            -0.5581758618354797,
            -1.6783851385116577,
            null
           ],
           "y": [
            0.7288249135017395,
            0.983510434627533,
            null
           ]
          },
          {
           "marker": {
            "color": "#4F6367",
            "size": 10
           },
           "mode": "markers",
           "name": "Nodes",
           "showlegend": true,
           "type": "scatter",
           "x": [
            -0.5581758618354797,
            -1.6783851385116577,
            -1.337755560874939
           ],
           "y": [
            0.7288249135017395,
            0.983510434627533,
            -0.6712226867675781
           ]
          }
         ]
        },
        {
         "data": [
          {
           "line": {
            "color": "#FE5F55",
            "width": 2
           },
           "mode": "lines",
           "name": "Edges",
           "showlegend": true,
           "type": "scatter",
           "x": [
            -0.554835855960846,
            -1.6913081407546997,
            null
           ],
           "y": [
            0.7224355936050415,
            0.9923515319824219,
            null
           ]
          },
          {
           "marker": {
            "color": "#4F6367",
            "size": 10
           },
           "mode": "markers",
           "name": "Nodes",
           "showlegend": true,
           "type": "scatter",
           "x": [
            -0.554835855960846,
            -1.6913081407546997,
            -1.286617398262024
           ],
           "y": [
            0.7224355936050415,
            0.9923515319824219,
            -0.6880120635032654
           ]
          }
         ]
        },
        {
         "data": [
          {
           "line": {
            "color": "#FE5F55",
            "width": 2
           },
           "mode": "lines",
           "name": "Edges",
           "showlegend": true,
           "type": "scatter",
           "x": [
            -0.5616616606712341,
            -1.6876158714294434,
            null
           ],
           "y": [
            0.7237245440483093,
            0.9912513494491577,
            null
           ]
          },
          {
           "marker": {
            "color": "#4F6367",
            "size": 10
           },
           "mode": "markers",
           "name": "Nodes",
           "showlegend": true,
           "type": "scatter",
           "x": [
            -0.5616616606712341,
            -1.6876158714294434,
            -1.2715805768966675
           ],
           "y": [
            0.7237245440483093,
            0.9912513494491577,
            -0.6891364455223083
           ]
          }
         ]
        },
        {
         "data": [
          {
           "line": {
            "color": "#FE5F55",
            "width": 2
           },
           "mode": "lines",
           "name": "Edges",
           "showlegend": true,
           "type": "scatter",
           "x": [
            -0.5665264129638672,
            -1.6789404153823853,
            null
           ],
           "y": [
            0.73110032081604,
            0.9825847148895264,
            null
           ]
          },
          {
           "marker": {
            "color": "#4F6367",
            "size": 10
           },
           "mode": "markers",
           "name": "Nodes",
           "showlegend": true,
           "type": "scatter",
           "x": [
            -0.5665264129638672,
            -1.6789404153823853,
            -1.2926304340362549
           ],
           "y": [
            0.73110032081604,
            0.9825847148895264,
            -0.6799185872077942
           ]
          }
         ]
        },
        {
         "data": [
          {
           "line": {
            "color": "#FE5F55",
            "width": 2
           },
           "mode": "lines",
           "name": "Edges",
           "showlegend": true,
           "type": "scatter",
           "x": [
            -0.5524123311042786,
            -1.6832940578460693,
            null
           ],
           "y": [
            0.7407293915748596,
            0.9715052843093872,
            null
           ]
          },
          {
           "marker": {
            "color": "#4F6367",
            "size": 10
           },
           "mode": "markers",
           "name": "Nodes",
           "showlegend": true,
           "type": "scatter",
           "x": [
            -0.5524123311042786,
            -1.6832940578460693,
            -1.3409115076065063
           ],
           "y": [
            0.7407293915748596,
            0.9715052843093872,
            -0.6694349050521851
           ]
          }
         ]
        },
        {
         "data": [
          {
           "line": {
            "color": "#FE5F55",
            "width": 2
           },
           "mode": "lines",
           "name": "Edges",
           "showlegend": true,
           "type": "scatter",
           "x": [
            -0.5373451113700867,
            -1.6866228580474854,
            null
           ],
           "y": [
            0.751849353313446,
            0.9585102796554565,
            null
           ]
          },
          {
           "marker": {
            "color": "#4F6367",
            "size": 10
           },
           "mode": "markers",
           "name": "Nodes",
           "showlegend": true,
           "type": "scatter",
           "x": [
            -0.5373451113700867,
            -1.6866228580474854,
            -1.3993675708770752
           ],
           "y": [
            0.751849353313446,
            0.9585102796554565,
            -0.6560065746307373
           ]
          }
         ]
        },
        {
         "data": [
          {
           "line": {
            "color": "#FE5F55",
            "width": 2
           },
           "mode": "lines",
           "name": "Edges",
           "showlegend": true,
           "type": "scatter",
           "x": [
            -0.5380531549453735,
            -1.6764646768569946,
            null
           ],
           "y": [
            0.7630031704902649,
            0.9453622698783875,
            null
           ]
          },
          {
           "marker": {
            "color": "#4F6367",
            "size": 10
           },
           "mode": "markers",
           "name": "Nodes",
           "showlegend": true,
           "type": "scatter",
           "x": [
            -0.5380531549453735,
            -1.6764646768569946,
            -1.449135422706604
           ],
           "y": [
            0.7630031704902649,
            0.9453622698783875,
            -0.6417882442474365
           ]
          }
         ]
        },
        {
         "data": [
          {
           "line": {
            "color": "#FE5F55",
            "width": 2
           },
           "mode": "lines",
           "name": "Edges",
           "showlegend": true,
           "type": "scatter",
           "x": [
            -0.5394222736358643,
            -1.6696441173553467,
            null
           ],
           "y": [
            0.7704584002494812,
            0.9376503825187683,
            null
           ]
          },
          {
           "marker": {
            "color": "#4F6367",
            "size": 10
           },
           "mode": "markers",
           "name": "Nodes",
           "showlegend": true,
           "type": "scatter",
           "x": [
            -0.5394222736358643,
            -1.6696441173553467,
            -1.4780406951904297
           ],
           "y": [
            0.7704584002494812,
            0.9376503825187683,
            -0.6393894553184509
           ]
          }
         ]
        },
        {
         "data": [
          {
           "line": {
            "color": "#FE5F55",
            "width": 2
           },
           "mode": "lines",
           "name": "Edges",
           "showlegend": true,
           "type": "scatter",
           "x": [
            -0.5314486026763916,
            -1.67697274684906,
            null
           ],
           "y": [
            0.77197265625,
            0.9376559257507324,
            null
           ]
          },
          {
           "marker": {
            "color": "#4F6367",
            "size": 10
           },
           "mode": "markers",
           "name": "Nodes",
           "showlegend": true,
           "type": "scatter",
           "x": [
            -0.5314486026763916,
            -1.67697274684906,
            -1.4797465801239014
           ],
           "y": [
            0.77197265625,
            0.9376559257507324,
            -0.6492776274681091
           ]
          }
         ]
        },
        {
         "data": [
          {
           "line": {
            "color": "#FE5F55",
            "width": 2
           },
           "mode": "lines",
           "name": "Edges",
           "showlegend": true,
           "type": "scatter",
           "x": [
            -0.5323784351348877,
            -1.681316614151001,
            null
           ],
           "y": [
            0.7686367630958557,
            0.941920816898346,
            null
           ]
          },
          {
           "marker": {
            "color": "#4F6367",
            "size": 10
           },
           "mode": "markers",
           "name": "Nodes",
           "showlegend": true,
           "type": "scatter",
           "x": [
            -0.5323784351348877,
            -1.681316614151001,
            -1.4522855281829834
           ],
           "y": [
            0.7686367630958557,
            0.941920816898346,
            -0.6557250022888184
           ]
          }
         ]
        },
        {
         "data": [
          {
           "line": {
            "color": "#FE5F55",
            "width": 2
           },
           "mode": "lines",
           "name": "Edges",
           "showlegend": true,
           "type": "scatter",
           "x": [
            -0.5452969670295715,
            -1.6780635118484497,
            null
           ],
           "y": [
            0.762278139591217,
            0.9479556083679199,
            null
           ]
          },
          {
           "marker": {
            "color": "#4F6367",
            "size": 10
           },
           "mode": "markers",
           "name": "Nodes",
           "showlegend": true,
           "type": "scatter",
           "x": [
            -0.5452969670295715,
            -1.6780635118484497,
            -1.4043257236480713
           ],
           "y": [
            0.762278139591217,
            0.9479556083679199,
            -0.6541885137557983
           ]
          }
         ]
        },
        {
         "data": [
          {
           "line": {
            "color": "#FE5F55",
            "width": 2
           },
           "mode": "lines",
           "name": "Edges",
           "showlegend": true,
           "type": "scatter",
           "x": [
            -0.5507427453994751,
            -1.6825536489486694,
            null
           ],
           "y": [
            0.7545446753501892,
            0.9560375213623047,
            null
           ]
          },
          {
           "marker": {
            "color": "#4F6367",
            "size": 10
           },
           "mode": "markers",
           "name": "Nodes",
           "showlegend": true,
           "type": "scatter",
           "x": [
            -0.5507427453994751,
            -1.6825536489486694,
            -1.3533809185028076
           ],
           "y": [
            0.7545446753501892,
            0.9560375213623047,
            -0.6572197675704956
           ]
          }
         ]
        },
        {
         "data": [
          {
           "line": {
            "color": "#FE5F55",
            "width": 2
           },
           "mode": "lines",
           "name": "Edges",
           "showlegend": true,
           "type": "scatter",
           "x": [
            -0.5488213896751404,
            -1.6917108297348022,
            null
           ],
           "y": [
            0.74863201379776,
            0.9636841416358948,
            null
           ]
          },
          {
           "marker": {
            "color": "#4F6367",
            "size": 10
           },
           "mode": "markers",
           "name": "Nodes",
           "showlegend": true,
           "type": "scatter",
           "x": [
            -0.5488213896751404,
            -1.6917108297348022,
            -1.315046787261963
           ],
           "y": [
            0.74863201379776,
            0.9636841416358948,
            -0.6692227721214294
           ]
          }
         ]
        },
        {
         "data": [
          {
           "line": {
            "color": "#FE5F55",
            "width": 2
           },
           "mode": "lines",
           "name": "Edges",
           "showlegend": true,
           "type": "scatter",
           "x": [
            -0.5540887713432312,
            -1.6899900436401367,
            null
           ],
           "y": [
            0.7474635243415833,
            0.9663197994232178,
            null
           ]
          },
          {
           "marker": {
            "color": "#4F6367",
            "size": 10
           },
           "mode": "markers",
           "name": "Nodes",
           "showlegend": true,
           "type": "scatter",
           "x": [
            -0.5540887713432312,
            -1.6899900436401367,
            -1.2975633144378662
           ],
           "y": [
            0.7474635243415833,
            0.9663197994232178,
            -0.6790162324905396
           ]
          }
         ]
        },
        {
         "data": [
          {
           "line": {
            "color": "#FE5F55",
            "width": 2
           },
           "mode": "lines",
           "name": "Edges",
           "showlegend": true,
           "type": "scatter",
           "x": [
            -0.5589314103126526,
            -1.6843708753585815,
            null
           ],
           "y": [
            0.7500896453857422,
            0.9638261795043945,
            null
           ]
          },
          {
           "marker": {
            "color": "#4F6367",
            "size": 10
           },
           "mode": "markers",
           "name": "Nodes",
           "showlegend": true,
           "type": "scatter",
           "x": [
            -0.5589314103126526,
            -1.6843708753585815,
            -1.3026484251022339
           ],
           "y": [
            0.7500896453857422,
            0.9638261795043945,
            -0.679642379283905
           ]
          }
         ]
        },
        {
         "data": [
          {
           "line": {
            "color": "#FE5F55",
            "width": 2
           },
           "mode": "lines",
           "name": "Edges",
           "showlegend": true,
           "type": "scatter",
           "x": [
            -0.550834059715271,
            -1.6876323223114014,
            null
           ],
           "y": [
            0.7542170882225037,
            0.9586625099182129,
            null
           ]
          },
          {
           "marker": {
            "color": "#4F6367",
            "size": 10
           },
           "mode": "markers",
           "name": "Nodes",
           "showlegend": true,
           "type": "scatter",
           "x": [
            -0.550834059715271,
            -1.6876323223114014,
            -1.326285481452942
           ],
           "y": [
            0.7542170882225037,
            0.9586625099182129,
            -0.6724133491516113
           ]
          }
         ]
        },
        {
         "data": [
          {
           "line": {
            "color": "#FE5F55",
            "width": 2
           },
           "mode": "lines",
           "name": "Edges",
           "showlegend": true,
           "type": "scatter",
           "x": [
            -0.5426868200302124,
            -1.68909752368927,
            null
           ],
           "y": [
            0.7598892450332642,
            0.951202392578125,
            null
           ]
          },
          {
           "marker": {
            "color": "#4F6367",
            "size": 10
           },
           "mode": "markers",
           "name": "Nodes",
           "showlegend": true,
           "type": "scatter",
           "x": [
            -0.5426868200302124,
            -1.68909752368927,
            -1.359580397605896
           ],
           "y": [
            0.7598892450332642,
            0.951202392578125,
            -0.660076916217804
           ]
          }
         ]
        },
        {
         "data": [
          {
           "line": {
            "color": "#FE5F55",
            "width": 2
           },
           "mode": "lines",
           "name": "Edges",
           "showlegend": true,
           "type": "scatter",
           "x": [
            -0.5438250303268433,
            -1.6818246841430664,
            null
           ],
           "y": [
            0.7665101289749146,
            0.9432893991470337,
            null
           ]
          },
          {
           "marker": {
            "color": "#4F6367",
            "size": 10
           },
           "mode": "markers",
           "name": "Nodes",
           "showlegend": true,
           "type": "scatter",
           "x": [
            -0.5438250303268433,
            -1.6818246841430664,
            -1.3919540643692017
           ],
           "y": [
            0.7665101289749146,
            0.9432893991470337,
            -0.6509230136871338
           ]
          }
         ]
        },
        {
         "data": [
          {
           "line": {
            "color": "#FE5F55",
            "width": 2
           },
           "mode": "lines",
           "name": "Edges",
           "showlegend": true,
           "type": "scatter",
           "x": [
            -0.5422797799110413,
            -1.679002046585083,
            null
           ],
           "y": [
            0.7713786363601685,
            0.938903272151947,
            null
           ]
          },
          {
           "marker": {
            "color": "#4F6367",
            "size": 10
           },
           "mode": "markers",
           "name": "Nodes",
           "showlegend": true,
           "type": "scatter",
           "x": [
            -0.5422797799110413,
            -1.679002046585083,
            -1.4145103693008423
           ],
           "y": [
            0.7713786363601685,
            0.938903272151947,
            -0.6536453366279602
           ]
          }
         ]
        },
        {
         "data": [
          {
           "line": {
            "color": "#FE5F55",
            "width": 2
           },
           "mode": "lines",
           "name": "Edges",
           "showlegend": true,
           "type": "scatter",
           "x": [
            -0.5366611480712891,
            -1.683350682258606,
            null
           ],
           "y": [
            0.7726889848709106,
            0.938704788684845,
            null
           ]
          },
          {
           "marker": {
            "color": "#4F6367",
            "size": 10
           },
           "mode": "markers",
           "name": "Nodes",
           "showlegend": true,
           "type": "scatter",
           "x": [
            -0.5366611480712891,
            -1.683350682258606,
            -1.4199846982955933
           ],
           "y": [
            0.7726889848709106,
            0.938704788684845,
            -0.660858690738678
           ]
          }
         ]
        },
        {
         "data": [
          {
           "line": {
            "color": "#FE5F55",
            "width": 2
           },
           "mode": "lines",
           "name": "Edges",
           "showlegend": true,
           "type": "scatter",
           "x": [
            -0.5397177338600159,
            -1.6831321716308594,
            null
           ],
           "y": [
            0.7707856297492981,
            0.9404469728469849,
            null
           ]
          },
          {
           "marker": {
            "color": "#4F6367",
            "size": 10
           },
           "mode": "markers",
           "name": "Nodes",
           "showlegend": true,
           "type": "scatter",
           "x": [
            -0.5397177338600159,
            -1.6831321716308594,
            -1.4057637453079224
           ],
           "y": [
            0.7707856297492981,
            0.9404469728469849,
            -0.6599753499031067
           ]
          }
         ]
        },
        {
         "data": [
          {
           "line": {
            "color": "#FE5F55",
            "width": 2
           },
           "mode": "lines",
           "name": "Edges",
           "showlegend": true,
           "type": "scatter",
           "x": [
            -0.5465844869613647,
            -1.681759238243103,
            null
           ],
           "y": [
            0.766595184803009,
            0.9439082741737366,
            null
           ]
          },
          {
           "marker": {
            "color": "#4F6367",
            "size": 10
           },
           "mode": "markers",
           "name": "Nodes",
           "showlegend": true,
           "type": "scatter",
           "x": [
            -0.5465844869613647,
            -1.681759238243103,
            -1.3784375190734863
           ],
           "y": [
            0.766595184803009,
            0.9439082741737366,
            -0.6555606126785278
           ]
          }
         ]
        },
        {
         "data": [
          {
           "line": {
            "color": "#FE5F55",
            "width": 2
           },
           "mode": "lines",
           "name": "Edges",
           "showlegend": true,
           "type": "scatter",
           "x": [
            -0.5465472340583801,
            -1.6873140335083008,
            null
           ],
           "y": [
            0.7616757750511169,
            0.9493934512138367,
            null
           ]
          },
          {
           "marker": {
            "color": "#4F6367",
            "size": 10
           },
           "mode": "markers",
           "name": "Nodes",
           "showlegend": true,
           "type": "scatter",
           "x": [
            -0.5465472340583801,
            -1.6873140335083008,
            -1.3495416641235352
           ],
           "y": [
            0.7616757750511169,
            0.9493934512138367,
            -0.6597594022750854
           ]
          }
         ]
        },
        {
         "data": [
          {
           "line": {
            "color": "#FE5F55",
            "width": 2
           },
           "mode": "lines",
           "name": "Edges",
           "showlegend": true,
           "type": "scatter",
           "x": [
            -0.5476369857788086,
            -1.6904096603393555,
            null
           ],
           "y": [
            0.7584797739982605,
            0.9540306329727173,
            null
           ]
          },
          {
           "marker": {
            "color": "#4F6367",
            "size": 10
           },
           "mode": "markers",
           "name": "Nodes",
           "showlegend": true,
           "type": "scatter",
           "x": [
            -0.5476369857788086,
            -1.6904096603393555,
            -1.3278566598892212
           ],
           "y": [
            0.7584797739982605,
            0.9540306329727173,
            -0.6695711612701416
           ]
          }
         ]
        },
        {
         "data": [
          {
           "line": {
            "color": "#FE5F55",
            "width": 2
           },
           "mode": "lines",
           "name": "Edges",
           "showlegend": true,
           "type": "scatter",
           "x": [
            -0.5532659888267517,
            -1.686856746673584,
            null
           ],
           "y": [
            0.7578637003898621,
            0.9554126262664795,
            null
           ]
          },
          {
           "marker": {
            "color": "#4F6367",
            "size": 10
           },
           "mode": "markers",
           "name": "Nodes",
           "showlegend": true,
           "type": "scatter",
           "x": [
            -0.5532659888267517,
            -1.686856746673584,
            -1.3181655406951904
           ],
           "y": [
            0.7578637003898621,
            0.9554126262664795,
            -0.6746832728385925
           ]
          }
         ]
        },
        {
         "data": [
          {
           "line": {
            "color": "#FE5F55",
            "width": 2
           },
           "mode": "lines",
           "name": "Edges",
           "showlegend": true,
           "type": "scatter",
           "x": [
            -0.5522388219833374,
            -1.687109112739563,
            null
           ],
           "y": [
            0.7587099075317383,
            0.9542734622955322,
            null
           ]
          },
          {
           "marker": {
            "color": "#4F6367",
            "size": 10
           },
           "mode": "markers",
           "name": "Nodes",
           "showlegend": true,
           "type": "scatter",
           "x": [
            -0.5522388219833374,
            -1.687109112739563,
            -1.3220065832138062
           ],
           "y": [
            0.7587099075317383,
            0.9542734622955322,
            -0.6726703643798828
           ]
          }
         ]
        },
        {
         "data": [
          {
           "line": {
            "color": "#FE5F55",
            "width": 2
           },
           "mode": "lines",
           "name": "Edges",
           "showlegend": true,
           "type": "scatter",
           "x": [
            -0.5463717579841614,
            -1.6898764371871948,
            null
           ],
           "y": [
            0.7608930468559265,
            0.9510900974273682,
            null
           ]
          },
          {
           "marker": {
            "color": "#4F6367",
            "size": 10
           },
           "mode": "markers",
           "name": "Nodes",
           "showlegend": true,
           "type": "scatter",
           "x": [
            -0.5463717579841614,
            -1.6898764371871948,
            -1.3370051383972168
           ],
           "y": [
            0.7608930468559265,
            0.9510900974273682,
            -0.6658642888069153
           ]
          }
         ]
        },
        {
         "data": [
          {
           "line": {
            "color": "#FE5F55",
            "width": 2
           },
           "mode": "lines",
           "name": "Edges",
           "showlegend": true,
           "type": "scatter",
           "x": [
            -0.5458996295928955,
            -1.686392068862915,
            null
           ],
           "y": [
            0.7647444009780884,
            0.9462759494781494,
            null
           ]
          },
          {
           "marker": {
            "color": "#4F6367",
            "size": 10
           },
           "mode": "markers",
           "name": "Nodes",
           "showlegend": true,
           "type": "scatter",
           "x": [
            -0.5458996295928955,
            -1.686392068862915,
            -1.357616662979126
           ],
           "y": [
            0.7647444009780884,
            0.9462759494781494,
            -0.6591474413871765
           ]
          }
         ]
        },
        {
         "data": [
          {
           "line": {
            "color": "#FE5F55",
            "width": 2
           },
           "mode": "lines",
           "name": "Edges",
           "showlegend": true,
           "type": "scatter",
           "x": [
            -0.5456161499023438,
            -1.6829086542129517,
            null
           ],
           "y": [
            0.7687016725540161,
            0.942355751991272,
            null
           ]
          },
          {
           "marker": {
            "color": "#4F6367",
            "size": 10
           },
           "mode": "markers",
           "name": "Nodes",
           "showlegend": true,
           "type": "scatter",
           "x": [
            -0.5456161499023438,
            -1.6829086542129517,
            -1.3772754669189453
           ],
           "y": [
            0.7687016725540161,
            0.942355751991272,
            -0.6590176224708557
           ]
          }
         ]
        },
        {
         "data": [
          {
           "line": {
            "color": "#FE5F55",
            "width": 2
           },
           "mode": "lines",
           "name": "Edges",
           "showlegend": true,
           "type": "scatter",
           "x": [
            -0.5411390066146851,
            -1.684938907623291,
            null
           ],
           "y": [
            0.7708680033683777,
            0.9407804608345032,
            null
           ]
          },
          {
           "marker": {
            "color": "#4F6367",
            "size": 10
           },
           "mode": "markers",
           "name": "Nodes",
           "showlegend": true,
           "type": "scatter",
           "x": [
            -0.5411390066146851,
            -1.684938907623291,
            -1.3891470432281494
           ],
           "y": [
            0.7708680033683777,
            0.9407804608345032,
            -0.6627119779586792
           ]
          }
         ]
        },
        {
         "data": [
          {
           "line": {
            "color": "#FE5F55",
            "width": 2
           },
           "mode": "lines",
           "name": "Edges",
           "showlegend": true,
           "type": "scatter",
           "x": [
            -0.5413512587547302,
            -1.6848714351654053,
            null
           ],
           "y": [
            0.7708937525749207,
            0.9405578970909119,
            null
           ]
          },
          {
           "marker": {
            "color": "#4F6367",
            "size": 10
           },
           "mode": "markers",
           "name": "Nodes",
           "showlegend": true,
           "type": "scatter",
           "x": [
            -0.5413512587547302,
            -1.6848714351654053,
            -1.388433575630188
           ],
           "y": [
            0.7708937525749207,
            0.9405578970909119,
            -0.6614110469818115
           ]
          }
         ]
        },
        {
         "data": [
          {
           "line": {
            "color": "#FE5F55",
            "width": 2
           },
           "mode": "lines",
           "name": "Edges",
           "showlegend": true,
           "type": "scatter",
           "x": [
            -0.5453118681907654,
            -1.6833152770996094,
            null
           ],
           "y": [
            0.7690783143043518,
            0.9417684674263,
            null
           ]
          },
          {
           "marker": {
            "color": "#4F6367",
            "size": 10
           },
           "mode": "markers",
           "name": "Nodes",
           "showlegend": true,
           "type": "scatter",
           "x": [
            -0.5453118681907654,
            -1.6833152770996094,
            -1.3766777515411377
           ],
           "y": [
            0.7690783143043518,
            0.9417684674263,
            -0.657592236995697
           ]
          }
         ]
        },
        {
         "data": [
          {
           "line": {
            "color": "#FE5F55",
            "width": 2
           },
           "mode": "lines",
           "name": "Edges",
           "showlegend": true,
           "type": "scatter",
           "x": [
            -0.5452249646186829,
            -1.686559796333313,
            null
           ],
           "y": [
            0.7661734223365784,
            0.9450092911720276,
            null
           ]
          },
          {
           "marker": {
            "color": "#4F6367",
            "size": 10
           },
           "mode": "markers",
           "name": "Nodes",
           "showlegend": true,
           "type": "scatter",
           "x": [
            -0.5452249646186829,
            -1.686559796333313,
            -1.3601338863372803
           ],
           "y": [
            0.7661734223365784,
            0.9450092911720276,
            -0.6600834727287292
           ]
          }
         ]
        },
        {
         "data": [
          {
           "line": {
            "color": "#FE5F55",
            "width": 2
           },
           "mode": "lines",
           "name": "Edges",
           "showlegend": true,
           "type": "scatter",
           "x": [
            -0.5461329817771912,
            -1.688680648803711,
            null
           ],
           "y": [
            0.7637074589729309,
            0.948433518409729,
            null
           ]
          },
          {
           "marker": {
            "color": "#4F6367",
            "size": 10
           },
           "mode": "markers",
           "name": "Nodes",
           "showlegend": true,
           "type": "scatter",
           "x": [
            -0.5461329817771912,
            -1.688680648803711,
            -1.344472050666809
           ],
           "y": [
            0.7637074589729309,
            0.948433518409729,
            -0.666638970375061
           ]
          }
         ]
        },
        {
         "data": [
          {
           "line": {
            "color": "#FE5F55",
            "width": 2
           },
           "mode": "lines",
           "name": "Edges",
           "showlegend": true,
           "type": "scatter",
           "x": [
            -0.5502707958221436,
            -1.6867172718048096,
            null
           ],
           "y": [
            0.7624225616455078,
            0.950198769569397,
            null
           ]
          },
          {
           "marker": {
            "color": "#4F6367",
            "size": 10
           },
           "mode": "markers",
           "name": "Nodes",
           "showlegend": true,
           "type": "scatter",
           "x": [
            -0.5502707958221436,
            -1.6867172718048096,
            -1.3339571952819824
           ],
           "y": [
            0.7624225616455078,
            0.950198769569397,
            -0.6699296832084656
           ]
          }
         ]
        },
        {
         "data": [
          {
           "line": {
            "color": "#FE5F55",
            "width": 2
           },
           "mode": "lines",
           "name": "Edges",
           "showlegend": true,
           "type": "scatter",
           "x": [
            -0.5497673749923706,
            -1.6876435279846191,
            null
           ],
           "y": [
            0.7619888782501221,
            0.9504866600036621,
            null
           ]
          },
          {
           "marker": {
            "color": "#4F6367",
            "size": 10
           },
           "mode": "markers",
           "name": "Nodes",
           "showlegend": true,
           "type": "scatter",
           "x": [
            -0.5497673749923706,
            -1.6876435279846191,
            -1.3316388130187988
           ],
           "y": [
            0.7619888782501221,
            0.9504866600036621,
            -0.6690086126327515
           ]
          }
         ]
        },
        {
         "data": [
          {
           "line": {
            "color": "#FE5F55",
            "width": 2
           },
           "mode": "lines",
           "name": "Edges",
           "showlegend": true,
           "type": "scatter",
           "x": [
            -0.5468518733978271,
            -1.689281702041626,
            null
           ],
           "y": [
            0.762778103351593,
            0.9492009878158569,
            null
           ]
          },
          {
           "marker": {
            "color": "#4F6367",
            "size": 10
           },
           "mode": "markers",
           "name": "Nodes",
           "showlegend": true,
           "type": "scatter",
           "x": [
            -0.5468518733978271,
            -1.689281702041626,
            -1.3377134799957275
           ],
           "y": [
            0.762778103351593,
            0.9492009878158569,
            -0.6656584143638611
           ]
          }
         ]
        },
        {
         "data": [
          {
           "line": {
            "color": "#FE5F55",
            "width": 2
           },
           "mode": "lines",
           "name": "Edges",
           "showlegend": true,
           "type": "scatter",
           "x": [
            -0.5473265647888184,
            -1.6865679025650024,
            null
           ],
           "y": [
            0.7650551795959473,
            0.9465020298957825,
            null
           ]
          },
          {
           "marker": {
            "color": "#4F6367",
            "size": 10
           },
           "mode": "markers",
           "name": "Nodes",
           "showlegend": true,
           "type": "scatter",
           "x": [
            -0.5473265647888184,
            -1.6865679025650024,
            -1.3495309352874756
           ],
           "y": [
            0.7650551795959473,
            0.9465020298957825,
            -0.6626596450805664
           ]
          }
         ]
        },
        {
         "data": [
          {
           "line": {
            "color": "#FE5F55",
            "width": 2
           },
           "mode": "lines",
           "name": "Edges",
           "showlegend": true,
           "type": "scatter",
           "x": [
            -0.5461517572402954,
            -1.6851555109024048,
            null
           ],
           "y": [
            0.7675825357437134,
            0.9440728425979614,
            null
           ]
          },
          {
           "marker": {
            "color": "#4F6367",
            "size": 10
           },
           "mode": "markers",
           "name": "Nodes",
           "showlegend": true,
           "type": "scatter",
           "x": [
            -0.5461517572402954,
            -1.6851555109024048,
            -1.3628249168395996
           ],
           "y": [
            0.7675825357437134,
            0.9440728425979614,
            -0.6630678772926331
           ]
          }
         ]
        },
        {
         "data": [
          {
           "line": {
            "color": "#FE5F55",
            "width": 2
           },
           "mode": "lines",
           "name": "Edges",
           "showlegend": true,
           "type": "scatter",
           "x": [
            -0.5429978370666504,
            -1.6863738298416138,
            null
           ],
           "y": [
            0.769169807434082,
            0.9426080584526062,
            null
           ]
          },
          {
           "marker": {
            "color": "#4F6367",
            "size": 10
           },
           "mode": "markers",
           "name": "Nodes",
           "showlegend": true,
           "type": "scatter",
           "x": [
            -0.5429978370666504,
            -1.6863738298416138,
            -1.3722944259643555
           ],
           "y": [
            0.769169807434082,
            0.9426080584526062,
            -0.663725733757019
           ]
          }
         ]
        },
        {
         "data": [
          {
           "line": {
            "color": "#FE5F55",
            "width": 2
           },
           "mode": "lines",
           "name": "Edges",
           "showlegend": true,
           "type": "scatter",
           "x": [
            -0.5439015030860901,
            -1.6851391792297363,
            null
           ],
           "y": [
            0.769583523273468,
            0.9417797923088074,
            null
           ]
          },
          {
           "marker": {
            "color": "#4F6367",
            "size": 10
           },
           "mode": "markers",
           "name": "Nodes",
           "showlegend": true,
           "type": "scatter",
           "x": [
            -0.5439015030860901,
            -1.6851391792297363,
            -1.3742153644561768
           ],
           "y": [
            0.769583523273468,
            0.9417797923088074,
            -0.6609514355659485
           ]
          }
         ]
        },
        {
         "data": [
          {
           "line": {
            "color": "#FE5F55",
            "width": 2
           },
           "mode": "lines",
           "name": "Edges",
           "showlegend": true,
           "type": "scatter",
           "x": [
            -0.5452956557273865,
            -1.684756875038147,
            null
           ],
           "y": [
            0.7687716484069824,
            0.9423490762710571,
            null
           ]
          },
          {
           "marker": {
            "color": "#4F6367",
            "size": 10
           },
           "mode": "markers",
           "name": "Nodes",
           "showlegend": true,
           "type": "scatter",
           "x": [
            -0.5452956557273865,
            -1.684756875038147,
            -1.36921226978302
           ],
           "y": [
            0.7687716484069824,
            0.9423490762710571,
            -0.6594281196594238
           ]
          }
         ]
        },
        {
         "data": [
          {
           "line": {
            "color": "#FE5F55",
            "width": 2
           },
           "mode": "lines",
           "name": "Edges",
           "showlegend": true,
           "type": "scatter",
           "x": [
            -0.5445801615715027,
            -1.687160611152649,
            null
           ],
           "y": [
            0.7671753168106079,
            0.944409966468811,
            null
           ]
          },
          {
           "marker": {
            "color": "#4F6367",
            "size": 10
           },
           "mode": "markers",
           "name": "Nodes",
           "showlegend": true,
           "type": "scatter",
           "x": [
            -0.5445801615715027,
            -1.687160611152649,
            -1.360228180885315
           ],
           "y": [
            0.7671753168106079,
            0.944409966468811,
            -0.66264408826828
           ]
          }
         ]
        },
        {
         "data": [
          {
           "line": {
            "color": "#FE5F55",
            "width": 2
           },
           "mode": "lines",
           "name": "Edges",
           "showlegend": true,
           "type": "scatter",
           "x": [
            -0.5466141700744629,
            -1.6871280670166016,
            null
           ],
           "y": [
            0.7656695246696472,
            0.9464092254638672,
            null
           ]
          },
          {
           "marker": {
            "color": "#4F6367",
            "size": 10
           },
           "mode": "markers",
           "name": "Nodes",
           "showlegend": true,
           "type": "scatter",
           "x": [
            -0.5466141700744629,
            -1.6871280670166016,
            -1.3501801490783691
           ],
           "y": [
            0.7656695246696472,
            0.9464092254638672,
            -0.6660423874855042
           ]
          }
         ]
        }
       ],
       "layout": {
        "height": 600,
        "hovermode": "closest",
        "template": {
         "data": {
          "bar": [
           {
            "error_x": {
             "color": "#2a3f5f"
            },
            "error_y": {
             "color": "#2a3f5f"
            },
            "marker": {
             "line": {
              "color": "#E5ECF6",
              "width": 0.5
             },
             "pattern": {
              "fillmode": "overlay",
              "size": 10,
              "solidity": 0.2
             }
            },
            "type": "bar"
           }
          ],
          "barpolar": [
           {
            "marker": {
             "line": {
              "color": "#E5ECF6",
              "width": 0.5
             },
             "pattern": {
              "fillmode": "overlay",
              "size": 10,
              "solidity": 0.2
             }
            },
            "type": "barpolar"
           }
          ],
          "carpet": [
           {
            "aaxis": {
             "endlinecolor": "#2a3f5f",
             "gridcolor": "white",
             "linecolor": "white",
             "minorgridcolor": "white",
             "startlinecolor": "#2a3f5f"
            },
            "baxis": {
             "endlinecolor": "#2a3f5f",
             "gridcolor": "white",
             "linecolor": "white",
             "minorgridcolor": "white",
             "startlinecolor": "#2a3f5f"
            },
            "type": "carpet"
           }
          ],
          "choropleth": [
           {
            "colorbar": {
             "outlinewidth": 0,
             "ticks": ""
            },
            "type": "choropleth"
           }
          ],
          "contour": [
           {
            "colorbar": {
             "outlinewidth": 0,
             "ticks": ""
            },
            "colorscale": [
             [
              0,
              "#0d0887"
             ],
             [
              0.1111111111111111,
              "#46039f"
             ],
             [
              0.2222222222222222,
              "#7201a8"
             ],
             [
              0.3333333333333333,
              "#9c179e"
             ],
             [
              0.4444444444444444,
              "#bd3786"
             ],
             [
              0.5555555555555556,
              "#d8576b"
             ],
             [
              0.6666666666666666,
              "#ed7953"
             ],
             [
              0.7777777777777778,
              "#fb9f3a"
             ],
             [
              0.8888888888888888,
              "#fdca26"
             ],
             [
              1,
              "#f0f921"
             ]
            ],
            "type": "contour"
           }
          ],
          "contourcarpet": [
           {
            "colorbar": {
             "outlinewidth": 0,
             "ticks": ""
            },
            "type": "contourcarpet"
           }
          ],
          "heatmap": [
           {
            "colorbar": {
             "outlinewidth": 0,
             "ticks": ""
            },
            "colorscale": [
             [
              0,
              "#0d0887"
             ],
             [
              0.1111111111111111,
              "#46039f"
             ],
             [
              0.2222222222222222,
              "#7201a8"
             ],
             [
              0.3333333333333333,
              "#9c179e"
             ],
             [
              0.4444444444444444,
              "#bd3786"
             ],
             [
              0.5555555555555556,
              "#d8576b"
             ],
             [
              0.6666666666666666,
              "#ed7953"
             ],
             [
              0.7777777777777778,
              "#fb9f3a"
             ],
             [
              0.8888888888888888,
              "#fdca26"
             ],
             [
              1,
              "#f0f921"
             ]
            ],
            "type": "heatmap"
           }
          ],
          "heatmapgl": [
           {
            "colorbar": {
             "outlinewidth": 0,
             "ticks": ""
            },
            "colorscale": [
             [
              0,
              "#0d0887"
             ],
             [
              0.1111111111111111,
              "#46039f"
             ],
             [
              0.2222222222222222,
              "#7201a8"
             ],
             [
              0.3333333333333333,
              "#9c179e"
             ],
             [
              0.4444444444444444,
              "#bd3786"
             ],
             [
              0.5555555555555556,
              "#d8576b"
             ],
             [
              0.6666666666666666,
              "#ed7953"
             ],
             [
              0.7777777777777778,
              "#fb9f3a"
             ],
             [
              0.8888888888888888,
              "#fdca26"
             ],
             [
              1,
              "#f0f921"
             ]
            ],
            "type": "heatmapgl"
           }
          ],
          "histogram": [
           {
            "marker": {
             "pattern": {
              "fillmode": "overlay",
              "size": 10,
              "solidity": 0.2
             }
            },
            "type": "histogram"
           }
          ],
          "histogram2d": [
           {
            "colorbar": {
             "outlinewidth": 0,
             "ticks": ""
            },
            "colorscale": [
             [
              0,
              "#0d0887"
             ],
             [
              0.1111111111111111,
              "#46039f"
             ],
             [
              0.2222222222222222,
              "#7201a8"
             ],
             [
              0.3333333333333333,
              "#9c179e"
             ],
             [
              0.4444444444444444,
              "#bd3786"
             ],
             [
              0.5555555555555556,
              "#d8576b"
             ],
             [
              0.6666666666666666,
              "#ed7953"
             ],
             [
              0.7777777777777778,
              "#fb9f3a"
             ],
             [
              0.8888888888888888,
              "#fdca26"
             ],
             [
              1,
              "#f0f921"
             ]
            ],
            "type": "histogram2d"
           }
          ],
          "histogram2dcontour": [
           {
            "colorbar": {
             "outlinewidth": 0,
             "ticks": ""
            },
            "colorscale": [
             [
              0,
              "#0d0887"
             ],
             [
              0.1111111111111111,
              "#46039f"
             ],
             [
              0.2222222222222222,
              "#7201a8"
             ],
             [
              0.3333333333333333,
              "#9c179e"
             ],
             [
              0.4444444444444444,
              "#bd3786"
             ],
             [
              0.5555555555555556,
              "#d8576b"
             ],
             [
              0.6666666666666666,
              "#ed7953"
             ],
             [
              0.7777777777777778,
              "#fb9f3a"
             ],
             [
              0.8888888888888888,
              "#fdca26"
             ],
             [
              1,
              "#f0f921"
             ]
            ],
            "type": "histogram2dcontour"
           }
          ],
          "mesh3d": [
           {
            "colorbar": {
             "outlinewidth": 0,
             "ticks": ""
            },
            "type": "mesh3d"
           }
          ],
          "parcoords": [
           {
            "line": {
             "colorbar": {
              "outlinewidth": 0,
              "ticks": ""
             }
            },
            "type": "parcoords"
           }
          ],
          "pie": [
           {
            "automargin": true,
            "type": "pie"
           }
          ],
          "scatter": [
           {
            "fillpattern": {
             "fillmode": "overlay",
             "size": 10,
             "solidity": 0.2
            },
            "type": "scatter"
           }
          ],
          "scatter3d": [
           {
            "line": {
             "colorbar": {
              "outlinewidth": 0,
              "ticks": ""
             }
            },
            "marker": {
             "colorbar": {
              "outlinewidth": 0,
              "ticks": ""
             }
            },
            "type": "scatter3d"
           }
          ],
          "scattercarpet": [
           {
            "marker": {
             "colorbar": {
              "outlinewidth": 0,
              "ticks": ""
             }
            },
            "type": "scattercarpet"
           }
          ],
          "scattergeo": [
           {
            "marker": {
             "colorbar": {
              "outlinewidth": 0,
              "ticks": ""
             }
            },
            "type": "scattergeo"
           }
          ],
          "scattergl": [
           {
            "marker": {
             "colorbar": {
              "outlinewidth": 0,
              "ticks": ""
             }
            },
            "type": "scattergl"
           }
          ],
          "scattermapbox": [
           {
            "marker": {
             "colorbar": {
              "outlinewidth": 0,
              "ticks": ""
             }
            },
            "type": "scattermapbox"
           }
          ],
          "scatterpolar": [
           {
            "marker": {
             "colorbar": {
              "outlinewidth": 0,
              "ticks": ""
             }
            },
            "type": "scatterpolar"
           }
          ],
          "scatterpolargl": [
           {
            "marker": {
             "colorbar": {
              "outlinewidth": 0,
              "ticks": ""
             }
            },
            "type": "scatterpolargl"
           }
          ],
          "scatterternary": [
           {
            "marker": {
             "colorbar": {
              "outlinewidth": 0,
              "ticks": ""
             }
            },
            "type": "scatterternary"
           }
          ],
          "surface": [
           {
            "colorbar": {
             "outlinewidth": 0,
             "ticks": ""
            },
            "colorscale": [
             [
              0,
              "#0d0887"
             ],
             [
              0.1111111111111111,
              "#46039f"
             ],
             [
              0.2222222222222222,
              "#7201a8"
             ],
             [
              0.3333333333333333,
              "#9c179e"
             ],
             [
              0.4444444444444444,
              "#bd3786"
             ],
             [
              0.5555555555555556,
              "#d8576b"
             ],
             [
              0.6666666666666666,
              "#ed7953"
             ],
             [
              0.7777777777777778,
              "#fb9f3a"
             ],
             [
              0.8888888888888888,
              "#fdca26"
             ],
             [
              1,
              "#f0f921"
             ]
            ],
            "type": "surface"
           }
          ],
          "table": [
           {
            "cells": {
             "fill": {
              "color": "#EBF0F8"
             },
             "line": {
              "color": "white"
             }
            },
            "header": {
             "fill": {
              "color": "#C8D4E3"
             },
             "line": {
              "color": "white"
             }
            },
            "type": "table"
           }
          ]
         },
         "layout": {
          "annotationdefaults": {
           "arrowcolor": "#2a3f5f",
           "arrowhead": 0,
           "arrowwidth": 1
          },
          "autotypenumbers": "strict",
          "coloraxis": {
           "colorbar": {
            "outlinewidth": 0,
            "ticks": ""
           }
          },
          "colorscale": {
           "diverging": [
            [
             0,
             "#8e0152"
            ],
            [
             0.1,
             "#c51b7d"
            ],
            [
             0.2,
             "#de77ae"
            ],
            [
             0.3,
             "#f1b6da"
            ],
            [
             0.4,
             "#fde0ef"
            ],
            [
             0.5,
             "#f7f7f7"
            ],
            [
             0.6,
             "#e6f5d0"
            ],
            [
             0.7,
             "#b8e186"
            ],
            [
             0.8,
             "#7fbc41"
            ],
            [
             0.9,
             "#4d9221"
            ],
            [
             1,
             "#276419"
            ]
           ],
           "sequential": [
            [
             0,
             "#0d0887"
            ],
            [
             0.1111111111111111,
             "#46039f"
            ],
            [
             0.2222222222222222,
             "#7201a8"
            ],
            [
             0.3333333333333333,
             "#9c179e"
            ],
            [
             0.4444444444444444,
             "#bd3786"
            ],
            [
             0.5555555555555556,
             "#d8576b"
            ],
            [
             0.6666666666666666,
             "#ed7953"
            ],
            [
             0.7777777777777778,
             "#fb9f3a"
            ],
            [
             0.8888888888888888,
             "#fdca26"
            ],
            [
             1,
             "#f0f921"
            ]
           ],
           "sequentialminus": [
            [
             0,
             "#0d0887"
            ],
            [
             0.1111111111111111,
             "#46039f"
            ],
            [
             0.2222222222222222,
             "#7201a8"
            ],
            [
             0.3333333333333333,
             "#9c179e"
            ],
            [
             0.4444444444444444,
             "#bd3786"
            ],
            [
             0.5555555555555556,
             "#d8576b"
            ],
            [
             0.6666666666666666,
             "#ed7953"
            ],
            [
             0.7777777777777778,
             "#fb9f3a"
            ],
            [
             0.8888888888888888,
             "#fdca26"
            ],
            [
             1,
             "#f0f921"
            ]
           ]
          },
          "colorway": [
           "#636efa",
           "#EF553B",
           "#00cc96",
           "#ab63fa",
           "#FFA15A",
           "#19d3f3",
           "#FF6692",
           "#B6E880",
           "#FF97FF",
           "#FECB52"
          ],
          "font": {
           "color": "#2a3f5f"
          },
          "geo": {
           "bgcolor": "white",
           "lakecolor": "white",
           "landcolor": "#E5ECF6",
           "showlakes": true,
           "showland": true,
           "subunitcolor": "white"
          },
          "hoverlabel": {
           "align": "left"
          },
          "hovermode": "closest",
          "mapbox": {
           "style": "light"
          },
          "paper_bgcolor": "white",
          "plot_bgcolor": "#E5ECF6",
          "polar": {
           "angularaxis": {
            "gridcolor": "white",
            "linecolor": "white",
            "ticks": ""
           },
           "bgcolor": "#E5ECF6",
           "radialaxis": {
            "gridcolor": "white",
            "linecolor": "white",
            "ticks": ""
           }
          },
          "scene": {
           "xaxis": {
            "backgroundcolor": "#E5ECF6",
            "gridcolor": "white",
            "gridwidth": 2,
            "linecolor": "white",
            "showbackground": true,
            "ticks": "",
            "zerolinecolor": "white"
           },
           "yaxis": {
            "backgroundcolor": "#E5ECF6",
            "gridcolor": "white",
            "gridwidth": 2,
            "linecolor": "white",
            "showbackground": true,
            "ticks": "",
            "zerolinecolor": "white"
           },
           "zaxis": {
            "backgroundcolor": "#E5ECF6",
            "gridcolor": "white",
            "gridwidth": 2,
            "linecolor": "white",
            "showbackground": true,
            "ticks": "",
            "zerolinecolor": "white"
           }
          },
          "shapedefaults": {
           "line": {
            "color": "#2a3f5f"
           }
          },
          "ternary": {
           "aaxis": {
            "gridcolor": "white",
            "linecolor": "white",
            "ticks": ""
           },
           "baxis": {
            "gridcolor": "white",
            "linecolor": "white",
            "ticks": ""
           },
           "bgcolor": "#E5ECF6",
           "caxis": {
            "gridcolor": "white",
            "linecolor": "white",
            "ticks": ""
           }
          },
          "title": {
           "x": 0.05
          },
          "xaxis": {
           "automargin": true,
           "gridcolor": "white",
           "linecolor": "white",
           "ticks": "",
           "title": {
            "standoff": 15
           },
           "zerolinecolor": "white",
           "zerolinewidth": 2
          },
          "yaxis": {
           "automargin": true,
           "gridcolor": "white",
           "linecolor": "white",
           "ticks": "",
           "title": {
            "standoff": 15
           },
           "zerolinecolor": "white",
           "zerolinewidth": 2
          }
         }
        },
        "title": {
         "text": "Self Arranging Graf"
        },
        "updatemenus": [
         {
          "buttons": [
           {
            "args": [
             null
            ],
            "label": "Play",
            "method": "animate"
           }
          ],
          "type": "buttons"
         }
        ],
        "width": 600,
        "xaxis": {
         "autorange": false,
         "range": [
          -1.8011794567108155,
          -0.43256278038024903
         ],
         "zeroline": false
        },
        "yaxis": {
         "autorange": false,
         "range": [
          -0.8272875487804413,
          1.1076543867588042
         ],
         "zeroline": false
        }
       }
      }
     },
     "metadata": {},
     "output_type": "display_data"
    }
   ],
   "source": [
    "# Create plotly animation\n",
    "node_list, edge_list = utils.graph_to_plotly(stats['positions'], stats['connection_matrix'])\n",
    "fig = utils.animate_network(node_list, edge_list)\n",
    "fig.show()"
   ]
  },
  {
   "cell_type": "code",
   "execution_count": null,
   "metadata": {},
   "outputs": [],
   "source": []
  }
 ],
 "metadata": {
  "kernelspec": {
   "display_name": "jenv",
   "language": "python",
   "name": "python3"
  },
  "language_info": {
   "codemirror_mode": {
    "name": "ipython",
    "version": 3
   },
   "file_extension": ".py",
   "mimetype": "text/x-python",
   "name": "python",
   "nbconvert_exporter": "python",
   "pygments_lexer": "ipython3",
   "version": "3.9.15"
  },
  "orig_nbformat": 4,
  "vscode": {
   "interpreter": {
    "hash": "a6df720517243887f81f829574e18eed6582ce87175ffd531d5fa99bc43729cc"
   }
  }
 },
 "nbformat": 4,
 "nbformat_minor": 2
}
