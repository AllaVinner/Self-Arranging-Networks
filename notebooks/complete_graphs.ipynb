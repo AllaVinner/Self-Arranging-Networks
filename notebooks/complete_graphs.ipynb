{
 "cells": [
  {
   "cell_type": "code",
   "execution_count": 1,
   "metadata": {},
   "outputs": [
    {
     "name": "stdout",
     "output_type": "stream",
     "text": [
      "c:\\Users\\joelw\\OneDrive\\Documents\\Projects\\Programming\\Self-Arranging-Networks\n"
     ]
    },
    {
     "data": {
      "text/plain": [
       "'c:\\\\Users\\\\joelw\\\\OneDrive\\\\Documents\\\\Projects\\\\Programming\\\\Self-Arranging-Networks'"
      ]
     },
     "execution_count": 1,
     "metadata": {},
     "output_type": "execute_result"
    }
   ],
   "source": [
    "import os\n",
    "working_dir_path = %pwd  #look at the current work dir\n",
    "if os.path.basename(working_dir_path) == 'notebooks':\n",
    "    %cd ..\n",
    "%pwd "
   ]
  },
  {
   "cell_type": "code",
   "execution_count": 2,
   "metadata": {},
   "outputs": [],
   "source": [
    "import torch\n",
    "import networkx as nx\n",
    "import numpy as np\n",
    "import plotly.graph_objects as go\n",
    "import plotly\n",
    "import src.network_arranger as na\n",
    "import src.utils as utils\n",
    "import imageio\n",
    "import json\n",
    "from PIL import Image"
   ]
  },
  {
   "cell_type": "code",
   "execution_count": 3,
   "metadata": {},
   "outputs": [],
   "source": [
    "G =  nx.complete_graph(2)"
   ]
  },
  {
   "cell_type": "code",
   "execution_count": 4,
   "metadata": {},
   "outputs": [],
   "source": [
    "# Calculate positions of nodes\n",
    "x,y, stats = na.arrange_graph(G, T=100)"
   ]
  },
  {
   "cell_type": "code",
   "execution_count": 19,
   "metadata": {},
   "outputs": [
    {
     "data": {
      "application/vnd.plotly.v1+json": {
       "config": {
        "plotlyServerURL": "https://plot.ly"
       },
       "data": [
        {
         "line": {
          "color": "#FE5F55",
          "width": 2
         },
         "mode": "lines",
         "name": "Edges",
         "type": "scatter",
         "x": [
          2.2455570697784424,
          -2.008491277694702,
          null
         ],
         "y": [
          -1.4979851245880127,
          -3.211927890777588,
          null
         ]
        },
        {
         "marker": {
          "color": "#4F6367",
          "size": 10
         },
         "mode": "markers",
         "name": "Nodes",
         "type": "scatter",
         "x": [
          2.2455570697784424,
          -2.008491277694702
         ],
         "y": [
          -1.4979851245880127,
          -3.211927890777588
         ]
        }
       ],
       "frames": [
        {
         "data": [
          {
           "line": {
            "color": "#FE5F55",
            "width": 2
           },
           "mode": "lines",
           "name": "Edges",
           "type": "scatter",
           "x": [
            2.2455570697784424,
            -2.008491277694702,
            null
           ],
           "y": [
            -1.4979851245880127,
            -3.211927890777588,
            null
           ]
          },
          {
           "marker": {
            "color": "#4F6367",
            "size": 10
           },
           "mode": "markers",
           "name": "Nodes",
           "type": "scatter",
           "x": [
            2.2455570697784424,
            -2.008491277694702
           ],
           "y": [
            -1.4979851245880127,
            -3.211927890777588
           ]
          }
         ]
        },
        {
         "data": [
          {
           "line": {
            "color": "#FE5F55",
            "width": 2
           },
           "mode": "lines",
           "name": "Edges",
           "type": "scatter",
           "x": [
            1.2455570697784424,
            -1.0084912776947021,
            null
           ],
           "y": [
            -2.4979851245880127,
            -2.211927890777588,
            null
           ]
          },
          {
           "marker": {
            "color": "#4F6367",
            "size": 10
           },
           "mode": "markers",
           "name": "Nodes",
           "type": "scatter",
           "x": [
            1.2455570697784424,
            -1.0084912776947021
           ],
           "y": [
            -2.4979851245880127,
            -2.211927890777588
           ]
          }
         ]
        },
        {
         "data": [
          {
           "line": {
            "color": "#FE5F55",
            "width": 2
           },
           "mode": "lines",
           "name": "Edges",
           "type": "scatter",
           "x": [
            0.2996482849121094,
            -0.06258249282836914,
            null
           ],
           "y": [
            -3.030999183654785,
            -1.6789138317108154,
            null
           ]
          },
          {
           "marker": {
            "color": "#4F6367",
            "size": 10
           },
           "mode": "markers",
           "name": "Nodes",
           "type": "scatter",
           "x": [
            0.2996482849121094,
            -0.06258249282836914
           ],
           "y": [
            -3.030999183654785,
            -1.6789138317108154
           ]
          }
         ]
        },
        {
         "data": [
          {
           "line": {
            "color": "#FE5F55",
            "width": 2
           },
           "mode": "lines",
           "name": "Edges",
           "type": "scatter",
           "x": [
            -0.4668840765953064,
            0.7039498686790466,
            null
           ],
           "y": [
            -3.05729341506958,
            -1.6526196002960205,
            null
           ]
          },
          {
           "marker": {
            "color": "#4F6367",
            "size": 10
           },
           "mode": "markers",
           "name": "Nodes",
           "type": "scatter",
           "x": [
            -0.4668840765953064,
            0.7039498686790466
           ],
           "y": [
            -3.05729341506958,
            -1.6526196002960205
           ]
          }
         ]
        },
        {
         "data": [
          {
           "line": {
            "color": "#FE5F55",
            "width": 2
           },
           "mode": "lines",
           "name": "Edges",
           "type": "scatter",
           "x": [
            -0.9413947463035583,
            1.1784605979919434,
            null
           ],
           "y": [
            -2.7439334392547607,
            -1.9659794569015503,
            null
           ]
          },
          {
           "marker": {
            "color": "#4F6367",
            "size": 10
           },
           "mode": "markers",
           "name": "Nodes",
           "type": "scatter",
           "x": [
            -0.9413947463035583,
            1.1784605979919434
           ],
           "y": [
            -2.7439334392547607,
            -1.9659794569015503
           ]
          }
         ]
        },
        {
         "data": [
          {
           "line": {
            "color": "#FE5F55",
            "width": 2
           },
           "mode": "lines",
           "name": "Edges",
           "type": "scatter",
           "x": [
            -1.0883169174194336,
            1.3253827095031738,
            null
           ],
           "y": [
            -2.3221001625061035,
            -2.387812614440918,
            null
           ]
          },
          {
           "marker": {
            "color": "#4F6367",
            "size": 10
           },
           "mode": "markers",
           "name": "Nodes",
           "type": "scatter",
           "x": [
            -1.0883169174194336,
            1.3253827095031738
           ],
           "y": [
            -2.3221001625061035,
            -2.387812614440918
           ]
          }
         ]
        },
        {
         "data": [
          {
           "line": {
            "color": "#FE5F55",
            "width": 2
           },
           "mode": "lines",
           "name": "Edges",
           "type": "scatter",
           "x": [
            -0.9849949479103088,
            1.2220606803894043,
            null
           ],
           "y": [
            -1.9724477529525757,
            -2.7374649047851562,
            null
           ]
          },
          {
           "marker": {
            "color": "#4F6367",
            "size": 10
           },
           "mode": "markers",
           "name": "Nodes",
           "type": "scatter",
           "x": [
            -0.9849949479103088,
            1.2220606803894043
           ],
           "y": [
            -1.9724477529525757,
            -2.7374649047851562
           ]
          }
         ]
        },
        {
         "data": [
          {
           "line": {
            "color": "#FE5F55",
            "width": 2
           },
           "mode": "lines",
           "name": "Edges",
           "type": "scatter",
           "x": [
            -0.7198488712310791,
            0.9569145441055298,
            null
           ],
           "y": [
            -1.829369306564331,
            -2.8805434703826904,
            null
           ]
          },
          {
           "marker": {
            "color": "#4F6367",
            "size": 10
           },
           "mode": "markers",
           "name": "Nodes",
           "type": "scatter",
           "x": [
            -0.7198488712310791,
            0.9569145441055298
           ],
           "y": [
            -1.829369306564331,
            -2.8805434703826904
           ]
          }
         ]
        },
        {
         "data": [
          {
           "line": {
            "color": "#FE5F55",
            "width": 2
           },
           "mode": "lines",
           "name": "Edges",
           "type": "scatter",
           "x": [
            -0.36623629927635193,
            0.603302001953125,
            null
           ],
           "y": [
            -1.8950062990188599,
            -2.814906358718872,
            null
           ]
          },
          {
           "marker": {
            "color": "#4F6367",
            "size": 10
           },
           "mode": "markers",
           "name": "Nodes",
           "type": "scatter",
           "x": [
            -0.36623629927635193,
            0.603302001953125
           ],
           "y": [
            -1.8950062990188599,
            -2.814906358718872
           ]
          }
         ]
        },
        {
         "data": [
          {
           "line": {
            "color": "#FE5F55",
            "width": 2
           },
           "mode": "lines",
           "name": "Edges",
           "type": "scatter",
           "x": [
            -0.005087345838546753,
            0.24215304851531982,
            null
           ],
           "y": [
            -2.0557708740234375,
            -2.654141902923584,
            null
           ]
          },
          {
           "marker": {
            "color": "#4F6367",
            "size": 10
           },
           "mode": "markers",
           "name": "Nodes",
           "type": "scatter",
           "x": [
            -0.005087345838546753,
            0.24215304851531982
           ],
           "y": [
            -2.0557708740234375,
            -2.654141902923584
           ]
          }
         ]
        },
        {
         "data": [
          {
           "line": {
            "color": "#FE5F55",
            "width": 2
           },
           "mode": "lines",
           "name": "Edges",
           "type": "scatter",
           "x": [
            0.20315878093242645,
            0.03390692174434662,
            null
           ],
           "y": [
            -1.7721319198608398,
            -2.9377808570861816,
            null
           ]
          },
          {
           "marker": {
            "color": "#4F6367",
            "size": 10
           },
           "mode": "markers",
           "name": "Nodes",
           "type": "scatter",
           "x": [
            0.20315878093242645,
            0.03390692174434662
           ],
           "y": [
            -1.7721319198608398,
            -2.9377808570861816
           ]
          }
         ]
        },
        {
         "data": [
          {
           "line": {
            "color": "#FE5F55",
            "width": 2
           },
           "mode": "lines",
           "name": "Edges",
           "type": "scatter",
           "x": [
            0.38537073135375977,
            -0.1483050286769867,
            null
           ],
           "y": [
            -1.5630528926849365,
            -3.146859884262085,
            null
           ]
          },
          {
           "marker": {
            "color": "#4F6367",
            "size": 10
           },
           "mode": "markers",
           "name": "Nodes",
           "type": "scatter",
           "x": [
            0.38537073135375977,
            -0.1483050286769867
           ],
           "y": [
            -1.5630528926849365,
            -3.146859884262085
           ]
          }
         ]
        },
        {
         "data": [
          {
           "line": {
            "color": "#FE5F55",
            "width": 2
           },
           "mode": "lines",
           "name": "Edges",
           "type": "scatter",
           "x": [
            0.5130237936973572,
            -0.2759580612182617,
            null
           ],
           "y": [
            -1.5309579372406006,
            -3.178954839706421,
            null
           ]
          },
          {
           "marker": {
            "color": "#4F6367",
            "size": 10
           },
           "mode": "markers",
           "name": "Nodes",
           "type": "scatter",
           "x": [
            0.5130237936973572,
            -0.2759580612182617
           ],
           "y": [
            -1.5309579372406006,
            -3.178954839706421
           ]
          }
         ]
        },
        {
         "data": [
          {
           "line": {
            "color": "#FE5F55",
            "width": 2
           },
           "mode": "lines",
           "name": "Edges",
           "type": "scatter",
           "x": [
            0.5723017454147339,
            -0.3352360129356384,
            null
           ],
           "y": [
            -1.6556804180145264,
            -3.054232358932495,
            null
           ]
          },
          {
           "marker": {
            "color": "#4F6367",
            "size": 10
           },
           "mode": "markers",
           "name": "Nodes",
           "type": "scatter",
           "x": [
            0.5723017454147339,
            -0.3352360129356384
           ],
           "y": [
            -1.6556804180145264,
            -3.054232358932495
           ]
          }
         ]
        },
        {
         "data": [
          {
           "line": {
            "color": "#FE5F55",
            "width": 2
           },
           "mode": "lines",
           "name": "Edges",
           "type": "scatter",
           "x": [
            0.5653202533721924,
            -0.32825449109077454,
            null
           ],
           "y": [
            -1.8845736980438232,
            -2.8253390789031982,
            null
           ]
          },
          {
           "marker": {
            "color": "#4F6367",
            "size": 10
           },
           "mode": "markers",
           "name": "Nodes",
           "type": "scatter",
           "x": [
            0.5653202533721924,
            -0.32825449109077454
           ],
           "y": [
            -1.8845736980438232,
            -2.8253390789031982
           ]
          }
         ]
        },
        {
         "data": [
          {
           "line": {
            "color": "#FE5F55",
            "width": 2
           },
           "mode": "lines",
           "name": "Edges",
           "type": "scatter",
           "x": [
            0.5198922753334045,
            -0.2828265428543091,
            null
           ],
           "y": [
            -2.143569231033325,
            -2.5663435459136963,
            null
           ]
          },
          {
           "marker": {
            "color": "#4F6367",
            "size": 10
           },
           "mode": "markers",
           "name": "Nodes",
           "type": "scatter",
           "x": [
            0.5198922753334045,
            -0.2828265428543091
           ],
           "y": [
            -2.143569231033325,
            -2.5663435459136963
           ]
          }
         ]
        },
        {
         "data": [
          {
           "line": {
            "color": "#FE5F55",
            "width": 2
           },
           "mode": "lines",
           "name": "Edges",
           "type": "scatter",
           "x": [
            0.5385993123054504,
            -0.30153360962867737,
            null
           ],
           "y": [
            -2.336879253387451,
            -2.3730335235595703,
            null
           ]
          },
          {
           "marker": {
            "color": "#4F6367",
            "size": 10
           },
           "mode": "markers",
           "name": "Nodes",
           "type": "scatter",
           "x": [
            0.5385993123054504,
            -0.30153360962867737
           ],
           "y": [
            -2.336879253387451,
            -2.3730335235595703
           ]
          }
         ]
        },
        {
         "data": [
          {
           "line": {
            "color": "#FE5F55",
            "width": 2
           },
           "mode": "lines",
           "name": "Edges",
           "type": "scatter",
           "x": [
            0.6586322784423828,
            -0.42156657576560974,
            null
           ],
           "y": [
            -2.5063655376434326,
            -2.203547239303589,
            null
           ]
          },
          {
           "marker": {
            "color": "#4F6367",
            "size": 10
           },
           "mode": "markers",
           "name": "Nodes",
           "type": "scatter",
           "x": [
            0.6586322784423828,
            -0.42156657576560974
           ],
           "y": [
            -2.5063655376434326,
            -2.203547239303589
           ]
          }
         ]
        },
        {
         "data": [
          {
           "line": {
            "color": "#FE5F55",
            "width": 2
           },
           "mode": "lines",
           "name": "Edges",
           "type": "scatter",
           "x": [
            0.7529309988021851,
            -0.5158653259277344,
            null
           ],
           "y": [
            -2.6548337936401367,
            -2.0550789833068848,
            null
           ]
          },
          {
           "marker": {
            "color": "#4F6367",
            "size": 10
           },
           "mode": "markers",
           "name": "Nodes",
           "type": "scatter",
           "x": [
            0.7529309988021851,
            -0.5158653259277344
           ],
           "y": [
            -2.6548337936401367,
            -2.0550789833068848
           ]
          }
         ]
        },
        {
         "data": [
          {
           "line": {
            "color": "#FE5F55",
            "width": 2
           },
           "mode": "lines",
           "name": "Edges",
           "type": "scatter",
           "x": [
            0.7699387073516846,
            -0.5328730344772339,
            null
           ],
           "y": [
            -2.746546506881714,
            -1.9633662700653076,
            null
           ]
          },
          {
           "marker": {
            "color": "#4F6367",
            "size": 10
           },
           "mode": "markers",
           "name": "Nodes",
           "type": "scatter",
           "x": [
            0.7699387073516846,
            -0.5328730344772339
           ],
           "y": [
            -2.746546506881714,
            -1.9633662700653076
           ]
          }
         ]
        },
        {
         "data": [
          {
           "line": {
            "color": "#FE5F55",
            "width": 2
           },
           "mode": "lines",
           "name": "Edges",
           "type": "scatter",
           "x": [
            0.7063920497894287,
            -0.46932634711265564,
            null
           ],
           "y": [
            -2.7659385204315186,
            -1.943974256515503,
            null
           ]
          },
          {
           "marker": {
            "color": "#4F6367",
            "size": 10
           },
           "mode": "markers",
           "name": "Nodes",
           "type": "scatter",
           "x": [
            0.7063920497894287,
            -0.46932634711265564
           ],
           "y": [
            -2.7659385204315186,
            -1.943974256515503
           ]
          }
         ]
        },
        {
         "data": [
          {
           "line": {
            "color": "#FE5F55",
            "width": 2
           },
           "mode": "lines",
           "name": "Edges",
           "type": "scatter",
           "x": [
            0.583462119102478,
            -0.34639644622802734,
            null
           ],
           "y": [
            -2.72208309173584,
            -1.9878298044204712,
            null
           ]
          },
          {
           "marker": {
            "color": "#4F6367",
            "size": 10
           },
           "mode": "markers",
           "name": "Nodes",
           "type": "scatter",
           "x": [
            0.583462119102478,
            -0.34639644622802734
           ],
           "y": [
            -2.72208309173584,
            -1.9878298044204712
           ]
          }
         ]
        },
        {
         "data": [
          {
           "line": {
            "color": "#FE5F55",
            "width": 2
           },
           "mode": "lines",
           "name": "Edges",
           "type": "scatter",
           "x": [
            0.44639256596565247,
            -0.20932689309120178,
            null
           ],
           "y": [
            -2.6554722785949707,
            -2.054440498352051,
            null
           ]
          },
          {
           "marker": {
            "color": "#4F6367",
            "size": 10
           },
           "mode": "markers",
           "name": "Nodes",
           "type": "scatter",
           "x": [
            0.44639256596565247,
            -0.20932689309120178
           ],
           "y": [
            -2.6554722785949707,
            -2.054440498352051
           ]
          }
         ]
        },
        {
         "data": [
          {
           "line": {
            "color": "#FE5F55",
            "width": 2
           },
           "mode": "lines",
           "name": "Edges",
           "type": "scatter",
           "x": [
            0.37949833273887634,
            -0.14243265986442566,
            null
           ],
           "y": [
            -2.6652746200561523,
            -2.044638156890869,
            null
           ]
          },
          {
           "marker": {
            "color": "#4F6367",
            "size": 10
           },
           "mode": "markers",
           "name": "Nodes",
           "type": "scatter",
           "x": [
            0.37949833273887634,
            -0.14243265986442566
           ],
           "y": [
            -2.6652746200561523,
            -2.044638156890869
           ]
          }
         ]
        },
        {
         "data": [
          {
           "line": {
            "color": "#FE5F55",
            "width": 2
           },
           "mode": "lines",
           "name": "Edges",
           "type": "scatter",
           "x": [
            0.40052175521850586,
            -0.16345606744289398,
            null
           ],
           "y": [
            -2.800570011138916,
            -1.9093427658081055,
            null
           ]
          },
          {
           "marker": {
            "color": "#4F6367",
            "size": 10
           },
           "mode": "markers",
           "name": "Nodes",
           "type": "scatter",
           "x": [
            0.40052175521850586,
            -0.16345606744289398
           ],
           "y": [
            -2.800570011138916,
            -1.9093427658081055
           ]
          }
         ]
        },
        {
         "data": [
          {
           "line": {
            "color": "#FE5F55",
            "width": 2
           },
           "mode": "lines",
           "name": "Edges",
           "type": "scatter",
           "x": [
            0.42275261878967285,
            -0.18568694591522217,
            null
           ],
           "y": [
            -2.9301838874816895,
            -1.7797287702560425,
            null
           ]
          },
          {
           "marker": {
            "color": "#4F6367",
            "size": 10
           },
           "mode": "markers",
           "name": "Nodes",
           "type": "scatter",
           "x": [
            0.42275261878967285,
            -0.18568694591522217
           ],
           "y": [
            -2.9301838874816895,
            -1.7797287702560425
           ]
          }
         ]
        },
        {
         "data": [
          {
           "line": {
            "color": "#FE5F55",
            "width": 2
           },
           "mode": "lines",
           "name": "Edges",
           "type": "scatter",
           "x": [
            0.41514334082603455,
            -0.17807765305042267,
            null
           ],
           "y": [
            -2.9787802696228027,
            -1.7311322689056396,
            null
           ]
          },
          {
           "marker": {
            "color": "#4F6367",
            "size": 10
           },
           "mode": "markers",
           "name": "Nodes",
           "type": "scatter",
           "x": [
            0.41514334082603455,
            -0.17807765305042267
           ],
           "y": [
            -2.9787802696228027,
            -1.7311322689056396
           ]
          }
         ]
        },
        {
         "data": [
          {
           "line": {
            "color": "#FE5F55",
            "width": 2
           },
           "mode": "lines",
           "name": "Edges",
           "type": "scatter",
           "x": [
            0.3759342133998871,
            -0.1388685256242752,
            null
           ],
           "y": [
            -2.935041904449463,
            -1.7748706340789795,
            null
           ]
          },
          {
           "marker": {
            "color": "#4F6367",
            "size": 10
           },
           "mode": "markers",
           "name": "Nodes",
           "type": "scatter",
           "x": [
            0.3759342133998871,
            -0.1388685256242752
           ],
           "y": [
            -2.935041904449463,
            -1.7748706340789795
           ]
          }
         ]
        },
        {
         "data": [
          {
           "line": {
            "color": "#FE5F55",
            "width": 2
           },
           "mode": "lines",
           "name": "Edges",
           "type": "scatter",
           "x": [
            0.318308025598526,
            -0.08124233037233353,
            null
           ],
           "y": [
            -2.8321762084960938,
            -1.8777363300323486,
            null
           ]
          },
          {
           "marker": {
            "color": "#4F6367",
            "size": 10
           },
           "mode": "markers",
           "name": "Nodes",
           "type": "scatter",
           "x": [
            0.318308025598526,
            -0.08124233037233353
           ],
           "y": [
            -2.8321762084960938,
            -1.8777363300323486
           ]
          }
         ]
        },
        {
         "data": [
          {
           "line": {
            "color": "#FE5F55",
            "width": 2
           },
           "mode": "lines",
           "name": "Edges",
           "type": "scatter",
           "x": [
            0.27101272344589233,
            -0.03394702449440956,
            null
           ],
           "y": [
            -2.7544102668762207,
            -1.9555022716522217,
            null
           ]
          },
          {
           "marker": {
            "color": "#4F6367",
            "size": 10
           },
           "mode": "markers",
           "name": "Nodes",
           "type": "scatter",
           "x": [
            0.27101272344589233,
            -0.03394702449440956
           ],
           "y": [
            -2.7544102668762207,
            -1.9555022716522217
           ]
          }
         ]
        },
        {
         "data": [
          {
           "line": {
            "color": "#FE5F55",
            "width": 2
           },
           "mode": "lines",
           "name": "Edges",
           "type": "scatter",
           "x": [
            0.2651520073413849,
            -0.028086312115192413,
            null
           ],
           "y": [
            -2.8070859909057617,
            -1.9028265476226807,
            null
           ]
          },
          {
           "marker": {
            "color": "#4F6367",
            "size": 10
           },
           "mode": "markers",
           "name": "Nodes",
           "type": "scatter",
           "x": [
            0.2651520073413849,
            -0.028086312115192413
           ],
           "y": [
            -2.8070859909057617,
            -1.9028265476226807
           ]
          }
         ]
        },
        {
         "data": [
          {
           "line": {
            "color": "#FE5F55",
            "width": 2
           },
           "mode": "lines",
           "name": "Edges",
           "type": "scatter",
           "x": [
            0.27548927068710327,
            -0.0384235605597496,
            null
           ],
           "y": [
            -2.915052890777588,
            -1.794859766960144,
            null
           ]
          },
          {
           "marker": {
            "color": "#4F6367",
            "size": 10
           },
           "mode": "markers",
           "name": "Nodes",
           "type": "scatter",
           "x": [
            0.27548927068710327,
            -0.0384235605597496
           ],
           "y": [
            -2.915052890777588,
            -1.794859766960144
           ]
          }
         ]
        },
        {
         "data": [
          {
           "line": {
            "color": "#FE5F55",
            "width": 2
           },
           "mode": "lines",
           "name": "Edges",
           "type": "scatter",
           "x": [
            0.27694496512413025,
            -0.03987925872206688,
            null
           ],
           "y": [
            -2.977888822555542,
            -1.73202383518219,
            null
           ]
          },
          {
           "marker": {
            "color": "#4F6367",
            "size": 10
           },
           "mode": "markers",
           "name": "Nodes",
           "type": "scatter",
           "x": [
            0.27694496512413025,
            -0.03987925872206688
           ],
           "y": [
            -2.977888822555542,
            -1.73202383518219
           ]
          }
         ]
        },
        {
         "data": [
          {
           "line": {
            "color": "#FE5F55",
            "width": 2
           },
           "mode": "lines",
           "name": "Edges",
           "type": "scatter",
           "x": [
            0.2632375657558441,
            -0.026171863079071045,
            null
           ],
           "y": [
            -2.9616875648498535,
            -1.748225212097168,
            null
           ]
          },
          {
           "marker": {
            "color": "#4F6367",
            "size": 10
           },
           "mode": "markers",
           "name": "Nodes",
           "type": "scatter",
           "x": [
            0.2632375657558441,
            -0.026171863079071045
           ],
           "y": [
            -2.9616875648498535,
            -1.748225212097168
           ]
          }
         ]
        },
        {
         "data": [
          {
           "line": {
            "color": "#FE5F55",
            "width": 2
           },
           "mode": "lines",
           "name": "Edges",
           "type": "scatter",
           "x": [
            0.23851071298122406,
            -0.0014450158923864365,
            null
           ],
           "y": [
            -2.883962631225586,
            -1.825950026512146,
            null
           ]
          },
          {
           "marker": {
            "color": "#4F6367",
            "size": 10
           },
           "mode": "markers",
           "name": "Nodes",
           "type": "scatter",
           "x": [
            0.23851071298122406,
            -0.0014450158923864365
           ],
           "y": [
            -2.883962631225586,
            -1.825950026512146
           ]
          }
         ]
        },
        {
         "data": [
          {
           "line": {
            "color": "#FE5F55",
            "width": 2
           },
           "mode": "lines",
           "name": "Edges",
           "type": "scatter",
           "x": [
            0.21491678059101105,
            0.022148918360471725,
            null
           ],
           "y": [
            -2.8073630332946777,
            -1.9025495052337646,
            null
           ]
          },
          {
           "marker": {
            "color": "#4F6367",
            "size": 10
           },
           "mode": "markers",
           "name": "Nodes",
           "type": "scatter",
           "x": [
            0.21491678059101105,
            0.022148918360471725
           ],
           "y": [
            -2.8073630332946777,
            -1.9025495052337646
           ]
          }
         ]
        },
        {
         "data": [
          {
           "line": {
            "color": "#FE5F55",
            "width": 2
           },
           "mode": "lines",
           "name": "Edges",
           "type": "scatter",
           "x": [
            0.20756135880947113,
            0.029504332691431046,
            null
           ],
           "y": [
            -2.8189477920532227,
            -1.8909647464752197,
            null
           ]
          },
          {
           "marker": {
            "color": "#4F6367",
            "size": 10
           },
           "mode": "markers",
           "name": "Nodes",
           "type": "scatter",
           "x": [
            0.20756135880947113,
            0.029504332691431046
           ],
           "y": [
            -2.8189477920532227,
            -1.8909647464752197
           ]
          }
         ]
        },
        {
         "data": [
          {
           "line": {
            "color": "#FE5F55",
            "width": 2
           },
           "mode": "lines",
           "name": "Edges",
           "type": "scatter",
           "x": [
            0.21171514689922333,
            0.025350548326969147,
            null
           ],
           "y": [
            -2.8978660106658936,
            -1.8120466470718384,
            null
           ]
          },
          {
           "marker": {
            "color": "#4F6367",
            "size": 10
           },
           "mode": "markers",
           "name": "Nodes",
           "type": "scatter",
           "x": [
            0.21171514689922333,
            0.025350548326969147
           ],
           "y": [
            -2.8978660106658936,
            -1.8120466470718384
           ]
          }
         ]
        },
        {
         "data": [
          {
           "line": {
            "color": "#FE5F55",
            "width": 2
           },
           "mode": "lines",
           "name": "Edges",
           "type": "scatter",
           "x": [
            0.21360793709754944,
            0.023457761853933334,
            null
           ],
           "y": [
            -2.9563827514648438,
            -1.7535297870635986,
            null
           ]
          },
          {
           "marker": {
            "color": "#4F6367",
            "size": 10
           },
           "mode": "markers",
           "name": "Nodes",
           "type": "scatter",
           "x": [
            0.21360793709754944,
            0.023457761853933334
           ],
           "y": [
            -2.9563827514648438,
            -1.7535297870635986
           ]
          }
         ]
        },
        {
         "data": [
          {
           "line": {
            "color": "#FE5F55",
            "width": 2
           },
           "mode": "lines",
           "name": "Edges",
           "type": "scatter",
           "x": [
            0.20784050226211548,
            0.029225192964076996,
            null
           ],
           "y": [
            -2.952333688735962,
            -1.757578730583191,
            null
           ]
          },
          {
           "marker": {
            "color": "#4F6367",
            "size": 10
           },
           "mode": "markers",
           "name": "Nodes",
           "type": "scatter",
           "x": [
            0.20784050226211548,
            0.029225192964076996
           ],
           "y": [
            -2.952333688735962,
            -1.757578730583191
           ]
          }
         ]
        },
        {
         "data": [
          {
           "line": {
            "color": "#FE5F55",
            "width": 2
           },
           "mode": "lines",
           "name": "Edges",
           "type": "scatter",
           "x": [
            0.19582578539848328,
            0.0412399023771286,
            null
           ],
           "y": [
            -2.894324541091919,
            -1.8155878782272339,
            null
           ]
          },
          {
           "marker": {
            "color": "#4F6367",
            "size": 10
           },
           "mode": "markers",
           "name": "Nodes",
           "type": "scatter",
           "x": [
            0.19582578539848328,
            0.0412399023771286
           ],
           "y": [
            -2.894324541091919,
            -1.8155878782272339
           ]
          }
         ]
        },
        {
         "data": [
          {
           "line": {
            "color": "#FE5F55",
            "width": 2
           },
           "mode": "lines",
           "name": "Edges",
           "type": "scatter",
           "x": [
            0.18388962745666504,
            0.05317605286836624,
            null
           ],
           "y": [
            -2.833141326904297,
            -1.876771092414856,
            null
           ]
          },
          {
           "marker": {
            "color": "#4F6367",
            "size": 10
           },
           "mode": "markers",
           "name": "Nodes",
           "type": "scatter",
           "x": [
            0.18388962745666504,
            0.05317605286836624
           ],
           "y": [
            -2.833141326904297,
            -1.876771092414856
           ]
          }
         ]
        },
        {
         "data": [
          {
           "line": {
            "color": "#FE5F55",
            "width": 2
           },
           "mode": "lines",
           "name": "Edges",
           "type": "scatter",
           "x": [
            0.17974859476089478,
            0.05731707811355591,
            null
           ],
           "y": [
            -2.836482048034668,
            -1.8734303712844849,
            null
           ]
          },
          {
           "marker": {
            "color": "#4F6367",
            "size": 10
           },
           "mode": "markers",
           "name": "Nodes",
           "type": "scatter",
           "x": [
            0.17974859476089478,
            0.05731707811355591
           ],
           "y": [
            -2.836482048034668,
            -1.8734303712844849
           ]
          }
         ]
        },
        {
         "data": [
          {
           "line": {
            "color": "#FE5F55",
            "width": 2
           },
           "mode": "lines",
           "name": "Edges",
           "type": "scatter",
           "x": [
            0.18192945420742035,
            0.055136218667030334,
            null
           ],
           "y": [
            -2.8952558040618896,
            -1.8146566152572632,
            null
           ]
          },
          {
           "marker": {
            "color": "#4F6367",
            "size": 10
           },
           "mode": "markers",
           "name": "Nodes",
           "type": "scatter",
           "x": [
            0.18192945420742035,
            0.055136218667030334
           ],
           "y": [
            -2.8952558040618896,
            -1.8146566152572632
           ]
          }
         ]
        },
        {
         "data": [
          {
           "line": {
            "color": "#FE5F55",
            "width": 2
           },
           "mode": "lines",
           "name": "Edges",
           "type": "scatter",
           "x": [
            0.1831430196762085,
            0.05392265319824219,
            null
           ],
           "y": [
            -2.940894842147827,
            -1.7690176963806152,
            null
           ]
          },
          {
           "marker": {
            "color": "#4F6367",
            "size": 10
           },
           "mode": "markers",
           "name": "Nodes",
           "type": "scatter",
           "x": [
            0.1831430196762085,
            0.05392265319824219
           ],
           "y": [
            -2.940894842147827,
            -1.7690176963806152
           ]
          }
         ]
        },
        {
         "data": [
          {
           "line": {
            "color": "#FE5F55",
            "width": 2
           },
           "mode": "lines",
           "name": "Edges",
           "type": "scatter",
           "x": [
            0.17994339764118195,
            0.05712227523326874,
            null
           ],
           "y": [
            -2.935920476913452,
            -1.7739920616149902,
            null
           ]
          },
          {
           "marker": {
            "color": "#4F6367",
            "size": 10
           },
           "mode": "markers",
           "name": "Nodes",
           "type": "scatter",
           "x": [
            0.17994339764118195,
            0.05712227523326874
           ],
           "y": [
            -2.935920476913452,
            -1.7739920616149902
           ]
          }
         ]
        },
        {
         "data": [
          {
           "line": {
            "color": "#FE5F55",
            "width": 2
           },
           "mode": "lines",
           "name": "Edges",
           "type": "scatter",
           "x": [
            0.17322875559329987,
            0.06383691728115082,
            null
           ],
           "y": [
            -2.8887076377868652,
            -1.8212049007415771,
            null
           ]
          },
          {
           "marker": {
            "color": "#4F6367",
            "size": 10
           },
           "mode": "markers",
           "name": "Nodes",
           "type": "scatter",
           "x": [
            0.17322875559329987,
            0.06383691728115082
           ],
           "y": [
            -2.8887076377868652,
            -1.8212049007415771
           ]
          }
         ]
        },
        {
         "data": [
          {
           "line": {
            "color": "#FE5F55",
            "width": 2
           },
           "mode": "lines",
           "name": "Edges",
           "type": "scatter",
           "x": [
            0.16706062853336334,
            0.07000504434108734,
            null
           ],
           "y": [
            -2.8450517654418945,
            -1.8648608922958374,
            null
           ]
          },
          {
           "marker": {
            "color": "#4F6367",
            "size": 10
           },
           "mode": "markers",
           "name": "Nodes",
           "type": "scatter",
           "x": [
            0.16706062853336334,
            0.07000504434108734
           ],
           "y": [
            -2.8450517654418945,
            -1.8648608922958374
           ]
          }
         ]
        },
        {
         "data": [
          {
           "line": {
            "color": "#FE5F55",
            "width": 2
           },
           "mode": "lines",
           "name": "Edges",
           "type": "scatter",
           "x": [
            0.16557496786117554,
            0.07149071246385574,
            null
           ],
           "y": [
            -2.854715585708618,
            -1.8551969528198242,
            null
           ]
          },
          {
           "marker": {
            "color": "#4F6367",
            "size": 10
           },
           "mode": "markers",
           "name": "Nodes",
           "type": "scatter",
           "x": [
            0.16557496786117554,
            0.07149071246385574
           ],
           "y": [
            -2.854715585708618,
            -1.8551969528198242
           ]
          }
         ]
        },
        {
         "data": [
          {
           "line": {
            "color": "#FE5F55",
            "width": 2
           },
           "mode": "lines",
           "name": "Edges",
           "type": "scatter",
           "x": [
            0.16723674535751343,
            0.06982893496751785,
            null
           ],
           "y": [
            -2.9012928009033203,
            -1.808619737625122,
            null
           ]
          },
          {
           "marker": {
            "color": "#4F6367",
            "size": 10
           },
           "mode": "markers",
           "name": "Nodes",
           "type": "scatter",
           "x": [
            0.16723674535751343,
            0.06982893496751785
           ],
           "y": [
            -2.9012928009033203,
            -1.808619737625122
           ]
          }
         ]
        },
        {
         "data": [
          {
           "line": {
            "color": "#FE5F55",
            "width": 2
           },
           "mode": "lines",
           "name": "Edges",
           "type": "scatter",
           "x": [
            0.16779166460037231,
            0.06927402317523956,
            null
           ],
           "y": [
            -2.9309582710266113,
            -1.7789543867111206,
            null
           ]
          },
          {
           "marker": {
            "color": "#4F6367",
            "size": 10
           },
           "mode": "markers",
           "name": "Nodes",
           "type": "scatter",
           "x": [
            0.16779166460037231,
            0.06927402317523956
           ],
           "y": [
            -2.9309582710266113,
            -1.7789543867111206
           ]
          }
         ]
        },
        {
         "data": [
          {
           "line": {
            "color": "#FE5F55",
            "width": 2
           },
           "mode": "lines",
           "name": "Edges",
           "type": "scatter",
           "x": [
            0.16542290151119232,
            0.07164277881383896,
            null
           ],
           "y": [
            -2.9182517528533936,
            -1.791661024093628,
            null
           ]
          },
          {
           "marker": {
            "color": "#4F6367",
            "size": 10
           },
           "mode": "markers",
           "name": "Nodes",
           "type": "scatter",
           "x": [
            0.16542290151119232,
            0.07164277881383896
           ],
           "y": [
            -2.9182517528533936,
            -1.791661024093628
           ]
          }
         ]
        },
        {
         "data": [
          {
           "line": {
            "color": "#FE5F55",
            "width": 2
           },
           "mode": "lines",
           "name": "Edges",
           "type": "scatter",
           "x": [
            0.1612449586391449,
            0.07582072913646698,
            null
           ],
           "y": [
            -2.878038167953491,
            -1.8318746089935303,
            null
           ]
          },
          {
           "marker": {
            "color": "#4F6367",
            "size": 10
           },
           "mode": "markers",
           "name": "Nodes",
           "type": "scatter",
           "x": [
            0.1612449586391449,
            0.07582072913646698
           ],
           "y": [
            -2.878038167953491,
            -1.8318746089935303
           ]
          }
         ]
        },
        {
         "data": [
          {
           "line": {
            "color": "#FE5F55",
            "width": 2
           },
           "mode": "lines",
           "name": "Edges",
           "type": "scatter",
           "x": [
            0.15827949345111847,
            0.07878619432449341,
            null
           ],
           "y": [
            -2.8534882068634033,
            -1.8564245700836182,
            null
           ]
          },
          {
           "marker": {
            "color": "#4F6367",
            "size": 10
           },
           "mode": "markers",
           "name": "Nodes",
           "type": "scatter",
           "x": [
            0.15827949345111847,
            0.07878619432449341
           ],
           "y": [
            -2.8534882068634033,
            -1.8564245700836182
           ]
          }
         ]
        },
        {
         "data": [
          {
           "line": {
            "color": "#FE5F55",
            "width": 2
           },
           "mode": "lines",
           "name": "Edges",
           "type": "scatter",
           "x": [
            0.15842589735984802,
            0.07863979041576385,
            null
           ],
           "y": [
            -2.873128652572632,
            -1.8367842435836792,
            null
           ]
          },
          {
           "marker": {
            "color": "#4F6367",
            "size": 10
           },
           "mode": "markers",
           "name": "Nodes",
           "type": "scatter",
           "x": [
            0.15842589735984802,
            0.07863979041576385
           ],
           "y": [
            -2.873128652572632,
            -1.8367842435836792
           ]
          }
         ]
        },
        {
         "data": [
          {
           "line": {
            "color": "#FE5F55",
            "width": 2
           },
           "mode": "lines",
           "name": "Edges",
           "type": "scatter",
           "x": [
            0.15974318981170654,
            0.07732250541448593,
            null
           ],
           "y": [
            -2.9090511798858643,
            -1.8008615970611572,
            null
           ]
          },
          {
           "marker": {
            "color": "#4F6367",
            "size": 10
           },
           "mode": "markers",
           "name": "Nodes",
           "type": "scatter",
           "x": [
            0.15974318981170654,
            0.07732250541448593
           ],
           "y": [
            -2.9090511798858643,
            -1.8008615970611572
           ]
          }
         ]
        },
        {
         "data": [
          {
           "line": {
            "color": "#FE5F55",
            "width": 2
           },
           "mode": "lines",
           "name": "Edges",
           "type": "scatter",
           "x": [
            0.15964490175247192,
            0.07742078602313995,
            null
           ],
           "y": [
            -2.921199321746826,
            -1.7887133359909058,
            null
           ]
          },
          {
           "marker": {
            "color": "#4F6367",
            "size": 10
           },
           "mode": "markers",
           "name": "Nodes",
           "type": "scatter",
           "x": [
            0.15964490175247192,
            0.07742078602313995
           ],
           "y": [
            -2.921199321746826,
            -1.7887133359909058
           ]
          }
         ]
        },
        {
         "data": [
          {
           "line": {
            "color": "#FE5F55",
            "width": 2
           },
           "mode": "lines",
           "name": "Edges",
           "type": "scatter",
           "x": [
            0.15756049752235413,
            0.07950519025325775,
            null
           ],
           "y": [
            -2.8999462127685547,
            -1.8099665641784668,
            null
           ]
          },
          {
           "marker": {
            "color": "#4F6367",
            "size": 10
           },
           "mode": "markers",
           "name": "Nodes",
           "type": "scatter",
           "x": [
            0.15756049752235413,
            0.07950519025325775
           ],
           "y": [
            -2.8999462127685547,
            -1.8099665641784668
           ]
          }
         ]
        },
        {
         "data": [
          {
           "line": {
            "color": "#FE5F55",
            "width": 2
           },
           "mode": "lines",
           "name": "Edges",
           "type": "scatter",
           "x": [
            0.15497559309005737,
            0.0820900946855545,
            null
           ],
           "y": [
            -2.8692967891693115,
            -1.8406158685684204,
            null
           ]
          },
          {
           "marker": {
            "color": "#4F6367",
            "size": 10
           },
           "mode": "markers",
           "name": "Nodes",
           "type": "scatter",
           "x": [
            0.15497559309005737,
            0.0820900946855545
           ],
           "y": [
            -2.8692967891693115,
            -1.8406158685684204
           ]
          }
         ]
        },
        {
         "data": [
          {
           "line": {
            "color": "#FE5F55",
            "width": 2
           },
           "mode": "lines",
           "name": "Edges",
           "type": "scatter",
           "x": [
            0.15405964851379395,
            0.08300603181123734,
            null
           ],
           "y": [
            -2.8651857376098633,
            -1.8447270393371582,
            null
           ]
          },
          {
           "marker": {
            "color": "#4F6367",
            "size": 10
           },
           "mode": "markers",
           "name": "Nodes",
           "type": "scatter",
           "x": [
            0.15405964851379395,
            0.08300603181123734
           ],
           "y": [
            -2.8651857376098633,
            -1.8447270393371582
           ]
          }
         ]
        },
        {
         "data": [
          {
           "line": {
            "color": "#FE5F55",
            "width": 2
           },
           "mode": "lines",
           "name": "Edges",
           "type": "scatter",
           "x": [
            0.15495800971984863,
            0.08210767060518265,
            null
           ],
           "y": [
            -2.8905935287475586,
            -1.8193193674087524,
            null
           ]
          },
          {
           "marker": {
            "color": "#4F6367",
            "size": 10
           },
           "mode": "markers",
           "name": "Nodes",
           "type": "scatter",
           "x": [
            0.15495800971984863,
            0.08210767060518265
           ],
           "y": [
            -2.8905935287475586,
            -1.8193193674087524
           ]
          }
         ]
        },
        {
         "data": [
          {
           "line": {
            "color": "#FE5F55",
            "width": 2
           },
           "mode": "lines",
           "name": "Edges",
           "type": "scatter",
           "x": [
            0.1557043045759201,
            0.08136136829853058,
            null
           ],
           "y": [
            -2.912461996078491,
            -1.7974510192871094,
            null
           ]
          },
          {
           "marker": {
            "color": "#4F6367",
            "size": 10
           },
           "mode": "markers",
           "name": "Nodes",
           "type": "scatter",
           "x": [
            0.1557043045759201,
            0.08136136829853058
           ],
           "y": [
            -2.912461996078491,
            -1.7974510192871094
           ]
          }
         ]
        },
        {
         "data": [
          {
           "line": {
            "color": "#FE5F55",
            "width": 2
           },
           "mode": "lines",
           "name": "Edges",
           "type": "scatter",
           "x": [
            0.15497788786888123,
            0.08208779245615005,
            null
           ],
           "y": [
            -2.9076168537139893,
            -1.8022961616516113,
            null
           ]
          },
          {
           "marker": {
            "color": "#4F6367",
            "size": 10
           },
           "mode": "markers",
           "name": "Nodes",
           "type": "scatter",
           "x": [
            0.15497788786888123,
            0.08208779245615005
           ],
           "y": [
            -2.9076168537139893,
            -1.8022961616516113
           ]
          }
         ]
        },
        {
         "data": [
          {
           "line": {
            "color": "#FE5F55",
            "width": 2
           },
           "mode": "lines",
           "name": "Edges",
           "type": "scatter",
           "x": [
            0.15320397913455963,
            0.08386169373989105,
            null
           ],
           "y": [
            -2.883410692214966,
            -1.8265022039413452,
            null
           ]
          },
          {
           "marker": {
            "color": "#4F6367",
            "size": 10
           },
           "mode": "markers",
           "name": "Nodes",
           "type": "scatter",
           "x": [
            0.15320397913455963,
            0.08386169373989105
           ],
           "y": [
            -2.883410692214966,
            -1.8265022039413452
           ]
          }
         ]
        },
        {
         "data": [
          {
           "line": {
            "color": "#FE5F55",
            "width": 2
           },
           "mode": "lines",
           "name": "Edges",
           "type": "scatter",
           "x": [
            0.1520051807165146,
            0.0850604847073555,
            null
           ],
           "y": [
            -2.868783950805664,
            -1.8411288261413574,
            null
           ]
          },
          {
           "marker": {
            "color": "#4F6367",
            "size": 10
           },
           "mode": "markers",
           "name": "Nodes",
           "type": "scatter",
           "x": [
            0.1520051807165146,
            0.0850604847073555
           ],
           "y": [
            -2.868783950805664,
            -1.8411288261413574
           ]
          }
         ]
        },
        {
         "data": [
          {
           "line": {
            "color": "#FE5F55",
            "width": 2
           },
           "mode": "lines",
           "name": "Edges",
           "type": "scatter",
           "x": [
            0.15235109627246857,
            0.08471457660198212,
            null
           ],
           "y": [
            -2.8812942504882812,
            -1.8286186456680298,
            null
           ]
          },
          {
           "marker": {
            "color": "#4F6367",
            "size": 10
           },
           "mode": "markers",
           "name": "Nodes",
           "type": "scatter",
           "x": [
            0.15235109627246857,
            0.08471457660198212
           ],
           "y": [
            -2.8812942504882812,
            -1.8286186456680298
           ]
          }
         ]
        },
        {
         "data": [
          {
           "line": {
            "color": "#FE5F55",
            "width": 2
           },
           "mode": "lines",
           "name": "Edges",
           "type": "scatter",
           "x": [
            0.15321850776672363,
            0.08384716510772705,
            null
           ],
           "y": [
            -2.9027323722839355,
            -1.8071805238723755,
            null
           ]
          },
          {
           "marker": {
            "color": "#4F6367",
            "size": 10
           },
           "mode": "markers",
           "name": "Nodes",
           "type": "scatter",
           "x": [
            0.15321850776672363,
            0.08384716510772705
           ],
           "y": [
            -2.9027323722839355,
            -1.8071805238723755
           ]
          }
         ]
        },
        {
         "data": [
          {
           "line": {
            "color": "#FE5F55",
            "width": 2
           },
           "mode": "lines",
           "name": "Edges",
           "type": "scatter",
           "x": [
            0.15319594740867615,
            0.08386973291635513,
            null
           ],
           "y": [
            -2.9072070121765137,
            -1.8027058839797974,
            null
           ]
          },
          {
           "marker": {
            "color": "#4F6367",
            "size": 10
           },
           "mode": "markers",
           "name": "Nodes",
           "type": "scatter",
           "x": [
            0.15319594740867615,
            0.08386973291635513
           ],
           "y": [
            -2.9072070121765137,
            -1.8027058839797974
           ]
          }
         ]
        },
        {
         "data": [
          {
           "line": {
            "color": "#FE5F55",
            "width": 2
           },
           "mode": "lines",
           "name": "Edges",
           "type": "scatter",
           "x": [
            0.15210269391536713,
            0.08496297895908356,
            null
           ],
           "y": [
            -2.891256093978882,
            -1.8186568021774292,
            null
           ]
          },
          {
           "marker": {
            "color": "#4F6367",
            "size": 10
           },
           "mode": "markers",
           "name": "Nodes",
           "type": "scatter",
           "x": [
            0.15210269391536713,
            0.08496297895908356
           ],
           "y": [
            -2.891256093978882,
            -1.8186568021774292
           ]
          }
         ]
        },
        {
         "data": [
          {
           "line": {
            "color": "#FE5F55",
            "width": 2
           },
           "mode": "lines",
           "name": "Edges",
           "type": "scatter",
           "x": [
            0.15101338922977448,
            0.08605227619409561,
            null
           ],
           "y": [
            -2.87496018409729,
            -1.8349528312683105,
            null
           ]
          },
          {
           "marker": {
            "color": "#4F6367",
            "size": 10
           },
           "mode": "markers",
           "name": "Nodes",
           "type": "scatter",
           "x": [
            0.15101338922977448,
            0.08605227619409561
           ],
           "y": [
            -2.87496018409729,
            -1.8349528312683105
           ]
          }
         ]
        },
        {
         "data": [
          {
           "line": {
            "color": "#FE5F55",
            "width": 2
           },
           "mode": "lines",
           "name": "Edges",
           "type": "scatter",
           "x": [
            0.15102042257785797,
            0.08604525029659271,
            null
           ],
           "y": [
            -2.8788249492645264,
            -1.8310880661010742,
            null
           ]
          },
          {
           "marker": {
            "color": "#4F6367",
            "size": 10
           },
           "mode": "markers",
           "name": "Nodes",
           "type": "scatter",
           "x": [
            0.15102042257785797,
            0.08604525029659271
           ],
           "y": [
            -2.8788249492645264,
            -1.8310880661010742
           ]
          }
         ]
        },
        {
         "data": [
          {
           "line": {
            "color": "#FE5F55",
            "width": 2
           },
           "mode": "lines",
           "name": "Edges",
           "type": "scatter",
           "x": [
            0.15175484120845795,
            0.08531082421541214,
            null
           ],
           "y": [
            -2.8960657119750977,
            -1.8138474225997925,
            null
           ]
          },
          {
           "marker": {
            "color": "#4F6367",
            "size": 10
           },
           "mode": "markers",
           "name": "Nodes",
           "type": "scatter",
           "x": [
            0.15175484120845795,
            0.08531082421541214
           ],
           "y": [
            -2.8960657119750977,
            -1.8138474225997925
           ]
          }
         ]
        },
        {
         "data": [
          {
           "line": {
            "color": "#FE5F55",
            "width": 2
           },
           "mode": "lines",
           "name": "Edges",
           "type": "scatter",
           "x": [
            0.15202035009860992,
            0.08504531532526016,
            null
           ],
           "y": [
            -2.9040658473968506,
            -1.8058472871780396,
            null
           ]
          },
          {
           "marker": {
            "color": "#4F6367",
            "size": 10
           },
           "mode": "markers",
           "name": "Nodes",
           "type": "scatter",
           "x": [
            0.15202035009860992,
            0.08504531532526016
           ],
           "y": [
            -2.9040658473968506,
            -1.8058472871780396
           ]
          }
         ]
        },
        {
         "data": [
          {
           "line": {
            "color": "#FE5F55",
            "width": 2
           },
           "mode": "lines",
           "name": "Edges",
           "type": "scatter",
           "x": [
            0.1513708233833313,
            0.08569484204053879,
            null
           ],
           "y": [
            -2.894239664077759,
            -1.8156734704971313,
            null
           ]
          },
          {
           "marker": {
            "color": "#4F6367",
            "size": 10
           },
           "mode": "markers",
           "name": "Nodes",
           "type": "scatter",
           "x": [
            0.1513708233833313,
            0.08569484204053879
           ],
           "y": [
            -2.894239664077759,
            -1.8156734704971313
           ]
          }
         ]
        },
        {
         "data": [
          {
           "line": {
            "color": "#FE5F55",
            "width": 2
           },
           "mode": "lines",
           "name": "Edges",
           "type": "scatter",
           "x": [
            0.1504960060119629,
            0.0865696594119072,
            null
           ],
           "y": [
            -2.8798370361328125,
            -1.830075979232788,
            null
           ]
          },
          {
           "marker": {
            "color": "#4F6367",
            "size": 10
           },
           "mode": "markers",
           "name": "Nodes",
           "type": "scatter",
           "x": [
            0.1504960060119629,
            0.0865696594119072
           ],
           "y": [
            -2.8798370361328125,
            -1.830075979232788
           ]
          }
         ]
        },
        {
         "data": [
          {
           "line": {
            "color": "#FE5F55",
            "width": 2
           },
           "mode": "lines",
           "name": "Edges",
           "type": "scatter",
           "x": [
            0.15037119388580322,
            0.08669446408748627,
            null
           ],
           "y": [
            -2.8796169757843018,
            -1.8302959203720093,
            null
           ]
          },
          {
           "marker": {
            "color": "#4F6367",
            "size": 10
           },
           "mode": "markers",
           "name": "Nodes",
           "type": "scatter",
           "x": [
            0.15037119388580322,
            0.08669446408748627
           ],
           "y": [
            -2.8796169757843018,
            -1.8302959203720093
           ]
          }
         ]
        },
        {
         "data": [
          {
           "line": {
            "color": "#FE5F55",
            "width": 2
           },
           "mode": "lines",
           "name": "Edges",
           "type": "scatter",
           "x": [
            0.15094402432441711,
            0.08612163364887238,
            null
           ],
           "y": [
            -2.8926374912261963,
            -1.8172754049301147,
            null
           ]
          },
          {
           "marker": {
            "color": "#4F6367",
            "size": 10
           },
           "mode": "markers",
           "name": "Nodes",
           "type": "scatter",
           "x": [
            0.15094402432441711,
            0.08612163364887238
           ],
           "y": [
            -2.8926374912261963,
            -1.8172754049301147
           ]
          }
         ]
        },
        {
         "data": [
          {
           "line": {
            "color": "#FE5F55",
            "width": 2
           },
           "mode": "lines",
           "name": "Edges",
           "type": "scatter",
           "x": [
            0.15127845108509064,
            0.08578720688819885,
            null
           ],
           "y": [
            -2.900853395462036,
            -1.809059500694275,
            null
           ]
          },
          {
           "marker": {
            "color": "#4F6367",
            "size": 10
           },
           "mode": "markers",
           "name": "Nodes",
           "type": "scatter",
           "x": [
            0.15127845108509064,
            0.08578720688819885
           ],
           "y": [
            -2.900853395462036,
            -1.809059500694275
           ]
          }
         ]
        },
        {
         "data": [
          {
           "line": {
            "color": "#FE5F55",
            "width": 2
           },
           "mode": "lines",
           "name": "Edges",
           "type": "scatter",
           "x": [
            0.1508755087852478,
            0.08619014918804169,
            null
           ],
           "y": [
            -2.894534111022949,
            -1.8153789043426514,
            null
           ]
          },
          {
           "marker": {
            "color": "#4F6367",
            "size": 10
           },
           "mode": "markers",
           "name": "Nodes",
           "type": "scatter",
           "x": [
            0.1508755087852478,
            0.08619014918804169
           ],
           "y": [
            -2.894534111022949,
            -1.8153789043426514
           ]
          }
         ]
        },
        {
         "data": [
          {
           "line": {
            "color": "#FE5F55",
            "width": 2
           },
           "mode": "lines",
           "name": "Edges",
           "type": "scatter",
           "x": [
            0.15020206570625305,
            0.08686359226703644,
            null
           ],
           "y": [
            -2.8827929496765137,
            -1.8271201848983765,
            null
           ]
          },
          {
           "marker": {
            "color": "#4F6367",
            "size": 10
           },
           "mode": "markers",
           "name": "Nodes",
           "type": "scatter",
           "x": [
            0.15020206570625305,
            0.08686359226703644
           ],
           "y": [
            -2.8827929496765137,
            -1.8271201848983765
           ]
          }
         ]
        },
        {
         "data": [
          {
           "line": {
            "color": "#FE5F55",
            "width": 2
           },
           "mode": "lines",
           "name": "Edges",
           "type": "scatter",
           "x": [
            0.15006861090660095,
            0.08699705451726913,
            null
           ],
           "y": [
            -2.88144588470459,
            -1.8284673690795898,
            null
           ]
          },
          {
           "marker": {
            "color": "#4F6367",
            "size": 10
           },
           "mode": "markers",
           "name": "Nodes",
           "type": "scatter",
           "x": [
            0.15006861090660095,
            0.08699705451726913
           ],
           "y": [
            -2.88144588470459,
            -1.8284673690795898
           ]
          }
         ]
        },
        {
         "data": [
          {
           "line": {
            "color": "#FE5F55",
            "width": 2
           },
           "mode": "lines",
           "name": "Edges",
           "type": "scatter",
           "x": [
            0.15052072703838348,
            0.0865449383854866,
            null
           ],
           "y": [
            -2.8914108276367188,
            -1.8185025453567505,
            null
           ]
          },
          {
           "marker": {
            "color": "#4F6367",
            "size": 10
           },
           "mode": "markers",
           "name": "Nodes",
           "type": "scatter",
           "x": [
            0.15052072703838348,
            0.0865449383854866
           ],
           "y": [
            -2.8914108276367188,
            -1.8185025453567505
           ]
          }
         ]
        },
        {
         "data": [
          {
           "line": {
            "color": "#FE5F55",
            "width": 2
           },
           "mode": "lines",
           "name": "Edges",
           "type": "scatter",
           "x": [
            0.15082433819770813,
            0.08624132722616196,
            null
           ],
           "y": [
            -2.898360013961792,
            -1.8115533590316772,
            null
           ]
          },
          {
           "marker": {
            "color": "#4F6367",
            "size": 10
           },
           "mode": "markers",
           "name": "Nodes",
           "type": "scatter",
           "x": [
            0.15082433819770813,
            0.08624132722616196
           ],
           "y": [
            -2.898360013961792,
            -1.8115533590316772
           ]
          }
         ]
        },
        {
         "data": [
          {
           "line": {
            "color": "#FE5F55",
            "width": 2
           },
           "mode": "lines",
           "name": "Edges",
           "type": "scatter",
           "x": [
            0.15053783357143402,
            0.08652782440185547,
            null
           ],
           "y": [
            -2.8936069011688232,
            -1.816306471824646,
            null
           ]
          },
          {
           "marker": {
            "color": "#4F6367",
            "size": 10
           },
           "mode": "markers",
           "name": "Nodes",
           "type": "scatter",
           "x": [
            0.15053783357143402,
            0.08652782440185547
           ],
           "y": [
            -2.8936069011688232,
            -1.816306471824646
           ]
          }
         ]
        },
        {
         "data": [
          {
           "line": {
            "color": "#FE5F55",
            "width": 2
           },
           "mode": "lines",
           "name": "Edges",
           "type": "scatter",
           "x": [
            0.15002532303333282,
            0.08704033493995667,
            null
           ],
           "y": [
            -2.8843233585357666,
            -1.8255900144577026,
            null
           ]
          },
          {
           "marker": {
            "color": "#4F6367",
            "size": 10
           },
           "mode": "markers",
           "name": "Nodes",
           "type": "scatter",
           "x": [
            0.15002532303333282,
            0.08704033493995667
           ],
           "y": [
            -2.8843233585357666,
            -1.8255900144577026
           ]
          }
         ]
        },
        {
         "data": [
          {
           "line": {
            "color": "#FE5F55",
            "width": 2
           },
           "mode": "lines",
           "name": "Edges",
           "type": "scatter",
           "x": [
            0.14994223415851593,
            0.08712343126535416,
            null
           ],
           "y": [
            -2.88340425491333,
            -1.8265092372894287,
            null
           ]
          },
          {
           "marker": {
            "color": "#4F6367",
            "size": 10
           },
           "mode": "markers",
           "name": "Nodes",
           "type": "scatter",
           "x": [
            0.14994223415851593,
            0.08712343126535416
           ],
           "y": [
            -2.88340425491333,
            -1.8265092372894287
           ]
          }
         ]
        },
        {
         "data": [
          {
           "line": {
            "color": "#FE5F55",
            "width": 2
           },
           "mode": "lines",
           "name": "Edges",
           "type": "scatter",
           "x": [
            0.15031510591506958,
            0.0867505669593811,
            null
           ],
           "y": [
            -2.891385316848755,
            -1.818528175354004,
            null
           ]
          },
          {
           "marker": {
            "color": "#4F6367",
            "size": 10
           },
           "mode": "markers",
           "name": "Nodes",
           "type": "scatter",
           "x": [
            0.15031510591506958,
            0.0867505669593811
           ],
           "y": [
            -2.891385316848755,
            -1.818528175354004
           ]
          }
         ]
        },
        {
         "data": [
          {
           "line": {
            "color": "#FE5F55",
            "width": 2
           },
           "mode": "lines",
           "name": "Edges",
           "type": "scatter",
           "x": [
            0.15054677426815033,
            0.08651890605688095,
            null
           ],
           "y": [
            -2.8965213298797607,
            -1.813392162322998,
            null
           ]
          },
          {
           "marker": {
            "color": "#4F6367",
            "size": 10
           },
           "mode": "markers",
           "name": "Nodes",
           "type": "scatter",
           "x": [
            0.15054677426815033,
            0.08651890605688095
           ],
           "y": [
            -2.8965213298797607,
            -1.813392162322998
           ]
          }
         ]
        },
        {
         "data": [
          {
           "line": {
            "color": "#FE5F55",
            "width": 2
           },
           "mode": "lines",
           "name": "Edges",
           "type": "scatter",
           "x": [
            0.1503034234046936,
            0.08676226437091827,
            null
           ],
           "y": [
            -2.892211437225342,
            -1.8177021741867065,
            null
           ]
          },
          {
           "marker": {
            "color": "#4F6367",
            "size": 10
           },
           "mode": "markers",
           "name": "Nodes",
           "type": "scatter",
           "x": [
            0.1503034234046936,
            0.08676226437091827
           ],
           "y": [
            -2.892211437225342,
            -1.8177021741867065
           ]
          }
         ]
        },
        {
         "data": [
          {
           "line": {
            "color": "#FE5F55",
            "width": 2
           },
           "mode": "lines",
           "name": "Edges",
           "type": "scatter",
           "x": [
            0.1499195545911789,
            0.08714612573385239,
            null
           ],
           "y": [
            -2.8850767612457275,
            -1.8248369693756104,
            null
           ]
          },
          {
           "marker": {
            "color": "#4F6367",
            "size": 10
           },
           "mode": "markers",
           "name": "Nodes",
           "type": "scatter",
           "x": [
            0.1499195545911789,
            0.08714612573385239
           ],
           "y": [
            -2.8850767612457275,
            -1.8248369693756104
           ]
          }
         ]
        },
        {
         "data": [
          {
           "line": {
            "color": "#FE5F55",
            "width": 2
           },
           "mode": "lines",
           "name": "Edges",
           "type": "scatter",
           "x": [
            0.14990927278995514,
            0.08715640753507614,
            null
           ],
           "y": [
            -2.8852756023406982,
            -1.8246381282806396,
            null
           ]
          },
          {
           "marker": {
            "color": "#4F6367",
            "size": 10
           },
           "mode": "markers",
           "name": "Nodes",
           "type": "scatter",
           "x": [
            0.14990927278995514,
            0.08715640753507614
           ],
           "y": [
            -2.8852756023406982,
            -1.8246381282806396
           ]
          }
         ]
        },
        {
         "data": [
          {
           "line": {
            "color": "#FE5F55",
            "width": 2
           },
           "mode": "lines",
           "name": "Edges",
           "type": "scatter",
           "x": [
            0.15022467076778412,
            0.08684101700782776,
            null
           ],
           "y": [
            -2.8918704986572266,
            -1.8180432319641113,
            null
           ]
          },
          {
           "marker": {
            "color": "#4F6367",
            "size": 10
           },
           "mode": "markers",
           "name": "Nodes",
           "type": "scatter",
           "x": [
            0.15022467076778412,
            0.08684101700782776
           ],
           "y": [
            -2.8918704986572266,
            -1.8180432319641113
           ]
          }
         ]
        },
        {
         "data": [
          {
           "line": {
            "color": "#FE5F55",
            "width": 2
           },
           "mode": "lines",
           "name": "Edges",
           "type": "scatter",
           "x": [
            0.15036806464195251,
            0.08669761568307877,
            null
           ],
           "y": [
            -2.895026206970215,
            -1.8148874044418335,
            null
           ]
          },
          {
           "marker": {
            "color": "#4F6367",
            "size": 10
           },
           "mode": "markers",
           "name": "Nodes",
           "type": "scatter",
           "x": [
            0.15036806464195251,
            0.08669761568307877
           ],
           "y": [
            -2.895026206970215,
            -1.8148874044418335
           ]
          }
         ]
        },
        {
         "data": [
          {
           "line": {
            "color": "#FE5F55",
            "width": 2
           },
           "mode": "lines",
           "name": "Edges",
           "type": "scatter",
           "x": [
            0.15013590455055237,
            0.08692977577447891,
            null
           ],
           "y": [
            -2.8907053470611572,
            -1.8192081451416016,
            null
           ]
          },
          {
           "marker": {
            "color": "#4F6367",
            "size": 10
           },
           "mode": "markers",
           "name": "Nodes",
           "type": "scatter",
           "x": [
            0.15013590455055237,
            0.08692977577447891
           ],
           "y": [
            -2.8907053470611572,
            -1.8192081451416016
           ]
          }
         ]
        },
        {
         "data": [
          {
           "line": {
            "color": "#FE5F55",
            "width": 2
           },
           "mode": "lines",
           "name": "Edges",
           "type": "scatter",
           "x": [
            0.14986470341682434,
            0.08720097690820694,
            null
           ],
           "y": [
            -2.8855843544006348,
            -1.824329137802124,
            null
           ]
          },
          {
           "marker": {
            "color": "#4F6367",
            "size": 10
           },
           "mode": "markers",
           "name": "Nodes",
           "type": "scatter",
           "x": [
            0.14986470341682434,
            0.08720097690820694
           ],
           "y": [
            -2.8855843544006348,
            -1.824329137802124
           ]
          }
         ]
        },
        {
         "data": [
          {
           "line": {
            "color": "#FE5F55",
            "width": 2
           },
           "mode": "lines",
           "name": "Edges",
           "type": "scatter",
           "x": [
            0.14992830157279968,
            0.0871373862028122,
            null
           ],
           "y": [
            -2.8870670795440674,
            -1.8228462934494019,
            null
           ]
          },
          {
           "marker": {
            "color": "#4F6367",
            "size": 10
           },
           "mode": "markers",
           "name": "Nodes",
           "type": "scatter",
           "x": [
            0.14992830157279968,
            0.0871373862028122
           ],
           "y": [
            -2.8870670795440674,
            -1.8228462934494019
           ]
          }
         ]
        },
        {
         "data": [
          {
           "line": {
            "color": "#FE5F55",
            "width": 2
           },
           "mode": "lines",
           "name": "Edges",
           "type": "scatter",
           "x": [
            0.15018759667873383,
            0.08687808364629745,
            null
           ],
           "y": [
            -2.8924055099487305,
            -1.8175078630447388,
            null
           ]
          },
          {
           "marker": {
            "color": "#4F6367",
            "size": 10
           },
           "mode": "markers",
           "name": "Nodes",
           "type": "scatter",
           "x": [
            0.15018759667873383,
            0.08687808364629745
           ],
           "y": [
            -2.8924055099487305,
            -1.8175078630447388
           ]
          }
         ]
        },
        {
         "data": [
          {
           "line": {
            "color": "#FE5F55",
            "width": 2
           },
           "mode": "lines",
           "name": "Edges",
           "type": "scatter",
           "x": [
            0.150238499045372,
            0.08682717382907867,
            null
           ],
           "y": [
            -2.893590211868286,
            -1.816323161125183,
            null
           ]
          },
          {
           "marker": {
            "color": "#4F6367",
            "size": 10
           },
           "mode": "markers",
           "name": "Nodes",
           "type": "scatter",
           "x": [
            0.150238499045372,
            0.08682717382907867
           ],
           "y": [
            -2.893590211868286,
            -1.816323161125183
           ]
          }
         ]
        },
        {
         "data": [
          {
           "line": {
            "color": "#FE5F55",
            "width": 2
           },
           "mode": "lines",
           "name": "Edges",
           "type": "scatter",
           "x": [
            0.15001527965068817,
            0.08705038577318192,
            null
           ],
           "y": [
            -2.889315366744995,
            -1.8205980062484741,
            null
           ]
          },
          {
           "marker": {
            "color": "#4F6367",
            "size": 10
           },
           "mode": "markers",
           "name": "Nodes",
           "type": "scatter",
           "x": [
            0.15001527965068817,
            0.08705038577318192
           ],
           "y": [
            -2.889315366744995,
            -1.8205980062484741
           ]
          }
         ]
        },
        {
         "data": [
          {
           "line": {
            "color": "#FE5F55",
            "width": 2
           },
           "mode": "lines",
           "name": "Edges",
           "type": "scatter",
           "x": [
            0.14985238015651703,
            0.08721329271793365,
            null
           ],
           "y": [
            -2.8862223625183105,
            -1.8236910104751587,
            null
           ]
          },
          {
           "marker": {
            "color": "#4F6367",
            "size": 10
           },
           "mode": "markers",
           "name": "Nodes",
           "type": "scatter",
           "x": [
            0.14985238015651703,
            0.08721329271793365
           ],
           "y": [
            -2.8862223625183105,
            -1.8236910104751587
           ]
          }
         ]
        }
       ],
       "layout": {
        "height": 600,
        "hovermode": "closest",
        "template": {
         "data": {
          "bar": [
           {
            "error_x": {
             "color": "#2a3f5f"
            },
            "error_y": {
             "color": "#2a3f5f"
            },
            "marker": {
             "line": {
              "color": "#E5ECF6",
              "width": 0.5
             },
             "pattern": {
              "fillmode": "overlay",
              "size": 10,
              "solidity": 0.2
             }
            },
            "type": "bar"
           }
          ],
          "barpolar": [
           {
            "marker": {
             "line": {
              "color": "#E5ECF6",
              "width": 0.5
             },
             "pattern": {
              "fillmode": "overlay",
              "size": 10,
              "solidity": 0.2
             }
            },
            "type": "barpolar"
           }
          ],
          "carpet": [
           {
            "aaxis": {
             "endlinecolor": "#2a3f5f",
             "gridcolor": "white",
             "linecolor": "white",
             "minorgridcolor": "white",
             "startlinecolor": "#2a3f5f"
            },
            "baxis": {
             "endlinecolor": "#2a3f5f",
             "gridcolor": "white",
             "linecolor": "white",
             "minorgridcolor": "white",
             "startlinecolor": "#2a3f5f"
            },
            "type": "carpet"
           }
          ],
          "choropleth": [
           {
            "colorbar": {
             "outlinewidth": 0,
             "ticks": ""
            },
            "type": "choropleth"
           }
          ],
          "contour": [
           {
            "colorbar": {
             "outlinewidth": 0,
             "ticks": ""
            },
            "colorscale": [
             [
              0,
              "#0d0887"
             ],
             [
              0.1111111111111111,
              "#46039f"
             ],
             [
              0.2222222222222222,
              "#7201a8"
             ],
             [
              0.3333333333333333,
              "#9c179e"
             ],
             [
              0.4444444444444444,
              "#bd3786"
             ],
             [
              0.5555555555555556,
              "#d8576b"
             ],
             [
              0.6666666666666666,
              "#ed7953"
             ],
             [
              0.7777777777777778,
              "#fb9f3a"
             ],
             [
              0.8888888888888888,
              "#fdca26"
             ],
             [
              1,
              "#f0f921"
             ]
            ],
            "type": "contour"
           }
          ],
          "contourcarpet": [
           {
            "colorbar": {
             "outlinewidth": 0,
             "ticks": ""
            },
            "type": "contourcarpet"
           }
          ],
          "heatmap": [
           {
            "colorbar": {
             "outlinewidth": 0,
             "ticks": ""
            },
            "colorscale": [
             [
              0,
              "#0d0887"
             ],
             [
              0.1111111111111111,
              "#46039f"
             ],
             [
              0.2222222222222222,
              "#7201a8"
             ],
             [
              0.3333333333333333,
              "#9c179e"
             ],
             [
              0.4444444444444444,
              "#bd3786"
             ],
             [
              0.5555555555555556,
              "#d8576b"
             ],
             [
              0.6666666666666666,
              "#ed7953"
             ],
             [
              0.7777777777777778,
              "#fb9f3a"
             ],
             [
              0.8888888888888888,
              "#fdca26"
             ],
             [
              1,
              "#f0f921"
             ]
            ],
            "type": "heatmap"
           }
          ],
          "heatmapgl": [
           {
            "colorbar": {
             "outlinewidth": 0,
             "ticks": ""
            },
            "colorscale": [
             [
              0,
              "#0d0887"
             ],
             [
              0.1111111111111111,
              "#46039f"
             ],
             [
              0.2222222222222222,
              "#7201a8"
             ],
             [
              0.3333333333333333,
              "#9c179e"
             ],
             [
              0.4444444444444444,
              "#bd3786"
             ],
             [
              0.5555555555555556,
              "#d8576b"
             ],
             [
              0.6666666666666666,
              "#ed7953"
             ],
             [
              0.7777777777777778,
              "#fb9f3a"
             ],
             [
              0.8888888888888888,
              "#fdca26"
             ],
             [
              1,
              "#f0f921"
             ]
            ],
            "type": "heatmapgl"
           }
          ],
          "histogram": [
           {
            "marker": {
             "pattern": {
              "fillmode": "overlay",
              "size": 10,
              "solidity": 0.2
             }
            },
            "type": "histogram"
           }
          ],
          "histogram2d": [
           {
            "colorbar": {
             "outlinewidth": 0,
             "ticks": ""
            },
            "colorscale": [
             [
              0,
              "#0d0887"
             ],
             [
              0.1111111111111111,
              "#46039f"
             ],
             [
              0.2222222222222222,
              "#7201a8"
             ],
             [
              0.3333333333333333,
              "#9c179e"
             ],
             [
              0.4444444444444444,
              "#bd3786"
             ],
             [
              0.5555555555555556,
              "#d8576b"
             ],
             [
              0.6666666666666666,
              "#ed7953"
             ],
             [
              0.7777777777777778,
              "#fb9f3a"
             ],
             [
              0.8888888888888888,
              "#fdca26"
             ],
             [
              1,
              "#f0f921"
             ]
            ],
            "type": "histogram2d"
           }
          ],
          "histogram2dcontour": [
           {
            "colorbar": {
             "outlinewidth": 0,
             "ticks": ""
            },
            "colorscale": [
             [
              0,
              "#0d0887"
             ],
             [
              0.1111111111111111,
              "#46039f"
             ],
             [
              0.2222222222222222,
              "#7201a8"
             ],
             [
              0.3333333333333333,
              "#9c179e"
             ],
             [
              0.4444444444444444,
              "#bd3786"
             ],
             [
              0.5555555555555556,
              "#d8576b"
             ],
             [
              0.6666666666666666,
              "#ed7953"
             ],
             [
              0.7777777777777778,
              "#fb9f3a"
             ],
             [
              0.8888888888888888,
              "#fdca26"
             ],
             [
              1,
              "#f0f921"
             ]
            ],
            "type": "histogram2dcontour"
           }
          ],
          "mesh3d": [
           {
            "colorbar": {
             "outlinewidth": 0,
             "ticks": ""
            },
            "type": "mesh3d"
           }
          ],
          "parcoords": [
           {
            "line": {
             "colorbar": {
              "outlinewidth": 0,
              "ticks": ""
             }
            },
            "type": "parcoords"
           }
          ],
          "pie": [
           {
            "automargin": true,
            "type": "pie"
           }
          ],
          "scatter": [
           {
            "fillpattern": {
             "fillmode": "overlay",
             "size": 10,
             "solidity": 0.2
            },
            "type": "scatter"
           }
          ],
          "scatter3d": [
           {
            "line": {
             "colorbar": {
              "outlinewidth": 0,
              "ticks": ""
             }
            },
            "marker": {
             "colorbar": {
              "outlinewidth": 0,
              "ticks": ""
             }
            },
            "type": "scatter3d"
           }
          ],
          "scattercarpet": [
           {
            "marker": {
             "colorbar": {
              "outlinewidth": 0,
              "ticks": ""
             }
            },
            "type": "scattercarpet"
           }
          ],
          "scattergeo": [
           {
            "marker": {
             "colorbar": {
              "outlinewidth": 0,
              "ticks": ""
             }
            },
            "type": "scattergeo"
           }
          ],
          "scattergl": [
           {
            "marker": {
             "colorbar": {
              "outlinewidth": 0,
              "ticks": ""
             }
            },
            "type": "scattergl"
           }
          ],
          "scattermapbox": [
           {
            "marker": {
             "colorbar": {
              "outlinewidth": 0,
              "ticks": ""
             }
            },
            "type": "scattermapbox"
           }
          ],
          "scatterpolar": [
           {
            "marker": {
             "colorbar": {
              "outlinewidth": 0,
              "ticks": ""
             }
            },
            "type": "scatterpolar"
           }
          ],
          "scatterpolargl": [
           {
            "marker": {
             "colorbar": {
              "outlinewidth": 0,
              "ticks": ""
             }
            },
            "type": "scatterpolargl"
           }
          ],
          "scatterternary": [
           {
            "marker": {
             "colorbar": {
              "outlinewidth": 0,
              "ticks": ""
             }
            },
            "type": "scatterternary"
           }
          ],
          "surface": [
           {
            "colorbar": {
             "outlinewidth": 0,
             "ticks": ""
            },
            "colorscale": [
             [
              0,
              "#0d0887"
             ],
             [
              0.1111111111111111,
              "#46039f"
             ],
             [
              0.2222222222222222,
              "#7201a8"
             ],
             [
              0.3333333333333333,
              "#9c179e"
             ],
             [
              0.4444444444444444,
              "#bd3786"
             ],
             [
              0.5555555555555556,
              "#d8576b"
             ],
             [
              0.6666666666666666,
              "#ed7953"
             ],
             [
              0.7777777777777778,
              "#fb9f3a"
             ],
             [
              0.8888888888888888,
              "#fdca26"
             ],
             [
              1,
              "#f0f921"
             ]
            ],
            "type": "surface"
           }
          ],
          "table": [
           {
            "cells": {
             "fill": {
              "color": "#EBF0F8"
             },
             "line": {
              "color": "white"
             }
            },
            "header": {
             "fill": {
              "color": "#C8D4E3"
             },
             "line": {
              "color": "white"
             }
            },
            "type": "table"
           }
          ]
         },
         "layout": {
          "annotationdefaults": {
           "arrowcolor": "#2a3f5f",
           "arrowhead": 0,
           "arrowwidth": 1
          },
          "autotypenumbers": "strict",
          "coloraxis": {
           "colorbar": {
            "outlinewidth": 0,
            "ticks": ""
           }
          },
          "colorscale": {
           "diverging": [
            [
             0,
             "#8e0152"
            ],
            [
             0.1,
             "#c51b7d"
            ],
            [
             0.2,
             "#de77ae"
            ],
            [
             0.3,
             "#f1b6da"
            ],
            [
             0.4,
             "#fde0ef"
            ],
            [
             0.5,
             "#f7f7f7"
            ],
            [
             0.6,
             "#e6f5d0"
            ],
            [
             0.7,
             "#b8e186"
            ],
            [
             0.8,
             "#7fbc41"
            ],
            [
             0.9,
             "#4d9221"
            ],
            [
             1,
             "#276419"
            ]
           ],
           "sequential": [
            [
             0,
             "#0d0887"
            ],
            [
             0.1111111111111111,
             "#46039f"
            ],
            [
             0.2222222222222222,
             "#7201a8"
            ],
            [
             0.3333333333333333,
             "#9c179e"
            ],
            [
             0.4444444444444444,
             "#bd3786"
            ],
            [
             0.5555555555555556,
             "#d8576b"
            ],
            [
             0.6666666666666666,
             "#ed7953"
            ],
            [
             0.7777777777777778,
             "#fb9f3a"
            ],
            [
             0.8888888888888888,
             "#fdca26"
            ],
            [
             1,
             "#f0f921"
            ]
           ],
           "sequentialminus": [
            [
             0,
             "#0d0887"
            ],
            [
             0.1111111111111111,
             "#46039f"
            ],
            [
             0.2222222222222222,
             "#7201a8"
            ],
            [
             0.3333333333333333,
             "#9c179e"
            ],
            [
             0.4444444444444444,
             "#bd3786"
            ],
            [
             0.5555555555555556,
             "#d8576b"
            ],
            [
             0.6666666666666666,
             "#ed7953"
            ],
            [
             0.7777777777777778,
             "#fb9f3a"
            ],
            [
             0.8888888888888888,
             "#fdca26"
            ],
            [
             1,
             "#f0f921"
            ]
           ]
          },
          "colorway": [
           "#636efa",
           "#EF553B",
           "#00cc96",
           "#ab63fa",
           "#FFA15A",
           "#19d3f3",
           "#FF6692",
           "#B6E880",
           "#FF97FF",
           "#FECB52"
          ],
          "font": {
           "color": "#2a3f5f"
          },
          "geo": {
           "bgcolor": "white",
           "lakecolor": "white",
           "landcolor": "#E5ECF6",
           "showlakes": true,
           "showland": true,
           "subunitcolor": "white"
          },
          "hoverlabel": {
           "align": "left"
          },
          "hovermode": "closest",
          "mapbox": {
           "style": "light"
          },
          "paper_bgcolor": "white",
          "plot_bgcolor": "#E5ECF6",
          "polar": {
           "angularaxis": {
            "gridcolor": "white",
            "linecolor": "white",
            "ticks": ""
           },
           "bgcolor": "#E5ECF6",
           "radialaxis": {
            "gridcolor": "white",
            "linecolor": "white",
            "ticks": ""
           }
          },
          "scene": {
           "xaxis": {
            "backgroundcolor": "#E5ECF6",
            "gridcolor": "white",
            "gridwidth": 2,
            "linecolor": "white",
            "showbackground": true,
            "ticks": "",
            "zerolinecolor": "white"
           },
           "yaxis": {
            "backgroundcolor": "#E5ECF6",
            "gridcolor": "white",
            "gridwidth": 2,
            "linecolor": "white",
            "showbackground": true,
            "ticks": "",
            "zerolinecolor": "white"
           },
           "zaxis": {
            "backgroundcolor": "#E5ECF6",
            "gridcolor": "white",
            "gridwidth": 2,
            "linecolor": "white",
            "showbackground": true,
            "ticks": "",
            "zerolinecolor": "white"
           }
          },
          "shapedefaults": {
           "line": {
            "color": "#2a3f5f"
           }
          },
          "ternary": {
           "aaxis": {
            "gridcolor": "white",
            "linecolor": "white",
            "ticks": ""
           },
           "baxis": {
            "gridcolor": "white",
            "linecolor": "white",
            "ticks": ""
           },
           "bgcolor": "#E5ECF6",
           "caxis": {
            "gridcolor": "white",
            "linecolor": "white",
            "ticks": ""
           }
          },
          "title": {
           "x": 0.05
          },
          "xaxis": {
           "automargin": true,
           "gridcolor": "white",
           "linecolor": "white",
           "ticks": "",
           "title": {
            "standoff": 15
           },
           "zerolinecolor": "white",
           "zerolinewidth": 2
          },
          "yaxis": {
           "automargin": true,
           "gridcolor": "white",
           "linecolor": "white",
           "ticks": "",
           "title": {
            "standoff": 15
           },
           "zerolinecolor": "white",
           "zerolinewidth": 2
          }
         }
        },
        "title": {
         "text": "Self Arranging Graf"
        },
        "updatemenus": [
         {
          "buttons": [
           {
            "args": [
             null
            ],
            "label": "Play",
            "method": "animate"
           }
          ],
          "type": "buttons"
         }
        ],
        "width": 600,
        "xaxis": {
         "autorange": false,
         "range": [
          0.08094938397407532,
          0.15611628890037538
         ],
         "zeroline": false
        },
        "yaxis": {
         "autorange": false,
         "range": [
          -2.9924754977226256,
          -1.7174378752708435
         ],
         "zeroline": false
        }
       }
      }
     },
     "metadata": {},
     "output_type": "display_data"
    }
   ],
   "source": [
    "# Create plotly animation\n",
    "node_list, edge_list = utils.graph_to_plotly(stats['positions'], stats['connection_matrix'])\n",
    "fig = utils.animate_network(node_list, edge_list)\n",
    "fig.show()"
   ]
  },
  {
   "cell_type": "code",
   "execution_count": 5,
   "metadata": {},
   "outputs": [],
   "source": [
    "# Create figures\n",
    "ns = [1,2,3,4]\n",
    "figs = []\n",
    "T = 200\n",
    "\n",
    "for n in ns:\n",
    "    G =  nx.complete_graph(n)\n",
    "    # Calculate positions of nodes\n",
    "    x,y, stats = na.arrange_graph(G, T=T)\n",
    "    node_list, edge_list = utils.graph_to_plotly(stats['positions'], stats['connection_matrix'])\n",
    "    fig = utils.animate_network(node_list, edge_list, minimum_layout=True)\n",
    "    figs.append(fig)"
   ]
  },
  {
   "cell_type": "code",
   "execution_count": 6,
   "metadata": {},
   "outputs": [
    {
     "name": "stdout",
     "output_type": "stream",
     "text": [
      "0 out of T\n",
      "10 out of T\n",
      "20 out of T\n",
      "30 out of T\n",
      "40 out of T\n",
      "50 out of T\n",
      "60 out of T\n",
      "70 out of T\n",
      "80 out of T\n",
      "90 out of T\n",
      "100 out of T\n",
      "110 out of T\n",
      "120 out of T\n",
      "130 out of T\n",
      "140 out of T\n",
      "150 out of T\n"
     ]
    }
   ],
   "source": [
    "temp_file = \"temp.png\"\n",
    "temp_acc_file = \"temp_accumulate.png\"\n",
    "file_name = 'tt.gif'\n",
    "with imageio.get_writer(file_name, mode='I') as writer:\n",
    "    for ti in range(160):\n",
    "        for fi, fig in enumerate(figs):\n",
    "            frame = fig.frames[ti]\n",
    "            frame['layout'] = fig['layout']\n",
    "            new_fig = plotly.io.from_json(json.dumps(frame.to_plotly_json()))\n",
    "            new_fig.write_image(temp_file)\n",
    "            if fi == 0:\n",
    "                im = Image.open(temp_file)\n",
    "                im.save(temp_acc_file)\n",
    "            else:\n",
    "                im = Image.open(temp_file)\n",
    "                im_acc = Image.open(temp_acc_file)\n",
    "                im_acc = Image.fromarray(np.hstack([im_acc,im]))\n",
    "                im_acc.save(temp_acc_file)\n",
    "\n",
    "        writer.append_data( imageio.imread(temp_acc_file))\n",
    "        if ti % 10 == 0:\n",
    "            print(ti, 'out of', 'T')"
   ]
  },
  {
   "cell_type": "code",
   "execution_count": null,
   "metadata": {},
   "outputs": [],
   "source": []
  }
 ],
 "metadata": {
  "kernelspec": {
   "display_name": "jenv",
   "language": "python",
   "name": "python3"
  },
  "language_info": {
   "codemirror_mode": {
    "name": "ipython",
    "version": 3
   },
   "file_extension": ".py",
   "mimetype": "text/x-python",
   "name": "python",
   "nbconvert_exporter": "python",
   "pygments_lexer": "ipython3",
   "version": "3.9.15 (main, Nov 24 2022, 14:39:17) [MSC v.1916 64 bit (AMD64)]"
  },
  "orig_nbformat": 4,
  "vscode": {
   "interpreter": {
    "hash": "a6df720517243887f81f829574e18eed6582ce87175ffd531d5fa99bc43729cc"
   }
  }
 },
 "nbformat": 4,
 "nbformat_minor": 2
}
